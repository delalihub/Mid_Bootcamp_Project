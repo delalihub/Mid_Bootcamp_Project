{
 "cells": [
  {
   "cell_type": "code",
   "execution_count": 44,
   "id": "1261c528",
   "metadata": {},
   "outputs": [
    {
     "name": "stdout",
     "output_type": "stream",
     "text": [
      "········\n"
     ]
    }
   ],
   "source": [
    "import pandas as pd\n",
    "import numpy as np\n",
    "import seaborn as sns\n",
    "import matplotlib.pyplot as plt\n",
    "import pymysql\n",
    "from sqlalchemy import create_engine\n",
    "import getpass  \n",
    "password = getpass.getpass()"
   ]
  },
  {
   "cell_type": "code",
   "execution_count": 45,
   "id": "16ee2e6c",
   "metadata": {},
   "outputs": [],
   "source": [
    "data = pd.read_csv(\"wh_staff_dataset.csv\")"
   ]
  },
  {
   "cell_type": "code",
   "execution_count": 46,
   "id": "fa587095",
   "metadata": {},
   "outputs": [
    {
     "data": {
      "text/html": [
       "<div>\n",
       "<style scoped>\n",
       "    .dataframe tbody tr th:only-of-type {\n",
       "        vertical-align: middle;\n",
       "    }\n",
       "\n",
       "    .dataframe tbody tr th {\n",
       "        vertical-align: top;\n",
       "    }\n",
       "\n",
       "    .dataframe thead th {\n",
       "        text-align: right;\n",
       "    }\n",
       "</style>\n",
       "<table border=\"1\" class=\"dataframe\">\n",
       "  <thead>\n",
       "    <tr style=\"text-align: right;\">\n",
       "      <th></th>\n",
       "      <th>year</th>\n",
       "      <th>name</th>\n",
       "      <th>gender</th>\n",
       "      <th>status</th>\n",
       "      <th>salary</th>\n",
       "      <th>pay_basis</th>\n",
       "      <th>position_title</th>\n",
       "    </tr>\n",
       "  </thead>\n",
       "  <tbody>\n",
       "    <tr>\n",
       "      <th>0</th>\n",
       "      <td>1997</td>\n",
       "      <td>Abedin,Huma M.</td>\n",
       "      <td>Female</td>\n",
       "      <td>Employee</td>\n",
       "      <td>27500.0</td>\n",
       "      <td>Per Annum</td>\n",
       "      <td>OFFICE MANAGER</td>\n",
       "    </tr>\n",
       "  </tbody>\n",
       "</table>\n",
       "</div>"
      ],
      "text/plain": [
       "   year            name  gender    status   salary  pay_basis  position_title\n",
       "0  1997  Abedin,Huma M.  Female  Employee  27500.0  Per Annum  OFFICE MANAGER"
      ]
     },
     "execution_count": 46,
     "metadata": {},
     "output_type": "execute_result"
    }
   ],
   "source": [
    "data.head(1)"
   ]
  },
  {
   "cell_type": "code",
   "execution_count": 47,
   "id": "2f1fd486",
   "metadata": {},
   "outputs": [],
   "source": [
    "data = data[[\"name\",\"year\",\"position_title\", \"gender\", \"status\",\"pay_basis\", \"salary\"]]"
   ]
  },
  {
   "cell_type": "code",
   "execution_count": 48,
   "id": "53d35f64",
   "metadata": {},
   "outputs": [
    {
     "data": {
      "text/html": [
       "<div>\n",
       "<style scoped>\n",
       "    .dataframe tbody tr th:only-of-type {\n",
       "        vertical-align: middle;\n",
       "    }\n",
       "\n",
       "    .dataframe tbody tr th {\n",
       "        vertical-align: top;\n",
       "    }\n",
       "\n",
       "    .dataframe thead th {\n",
       "        text-align: right;\n",
       "    }\n",
       "</style>\n",
       "<table border=\"1\" class=\"dataframe\">\n",
       "  <thead>\n",
       "    <tr style=\"text-align: right;\">\n",
       "      <th></th>\n",
       "      <th>name</th>\n",
       "      <th>year</th>\n",
       "      <th>position_title</th>\n",
       "      <th>gender</th>\n",
       "      <th>status</th>\n",
       "      <th>pay_basis</th>\n",
       "      <th>salary</th>\n",
       "    </tr>\n",
       "  </thead>\n",
       "  <tbody>\n",
       "    <tr>\n",
       "      <th>0</th>\n",
       "      <td>Abedin,Huma M.</td>\n",
       "      <td>1997</td>\n",
       "      <td>OFFICE MANAGER</td>\n",
       "      <td>Female</td>\n",
       "      <td>Employee</td>\n",
       "      <td>Per Annum</td>\n",
       "      <td>27500.0</td>\n",
       "    </tr>\n",
       "    <tr>\n",
       "      <th>1</th>\n",
       "      <td>Abrams,Lori E.</td>\n",
       "      <td>1997</td>\n",
       "      <td>DEPUTY DIRECTOR, WHITE HOUSE GIFTS</td>\n",
       "      <td>Female</td>\n",
       "      <td>Employee</td>\n",
       "      <td>Per Annum</td>\n",
       "      <td>35000.0</td>\n",
       "    </tr>\n",
       "    <tr>\n",
       "      <th>2</th>\n",
       "      <td>Alcorn,Brian A.</td>\n",
       "      <td>1997</td>\n",
       "      <td>ASSISTANT DIRECTOR FOR ADVANCE</td>\n",
       "      <td>Male</td>\n",
       "      <td>Employee</td>\n",
       "      <td>Per Annum</td>\n",
       "      <td>25000.0</td>\n",
       "    </tr>\n",
       "    <tr>\n",
       "      <th>3</th>\n",
       "      <td>Allen,Jeannetta Pam</td>\n",
       "      <td>1997</td>\n",
       "      <td>STAFF ASSISTANT</td>\n",
       "      <td>Female</td>\n",
       "      <td>Employee</td>\n",
       "      <td>Per Annum</td>\n",
       "      <td>22000.0</td>\n",
       "    </tr>\n",
       "    <tr>\n",
       "      <th>4</th>\n",
       "      <td>Allison,Donna Tate</td>\n",
       "      <td>1997</td>\n",
       "      <td>WHITE HOUSE TELEPHONE OPERATOR</td>\n",
       "      <td>Female</td>\n",
       "      <td>Employee</td>\n",
       "      <td>Per Annum</td>\n",
       "      <td>27624.0</td>\n",
       "    </tr>\n",
       "    <tr>\n",
       "      <th>5</th>\n",
       "      <td>Alston,Mildred C.</td>\n",
       "      <td>1997</td>\n",
       "      <td>SPECIAL ASSISTANT PERSONAL CORRESPONDENCE</td>\n",
       "      <td>Female</td>\n",
       "      <td>Employee</td>\n",
       "      <td>Per Annum</td>\n",
       "      <td>47000.0</td>\n",
       "    </tr>\n",
       "    <tr>\n",
       "      <th>6</th>\n",
       "      <td>Alterescu,Louis</td>\n",
       "      <td>1997</td>\n",
       "      <td>ATTORNEY - ADVISOR</td>\n",
       "      <td>Male</td>\n",
       "      <td>Detailee</td>\n",
       "      <td>Per Annum</td>\n",
       "      <td>73163.0</td>\n",
       "    </tr>\n",
       "    <tr>\n",
       "      <th>7</th>\n",
       "      <td>Amador,Patricia</td>\n",
       "      <td>1997</td>\n",
       "      <td>ATTORNEY - ADVISOR</td>\n",
       "      <td>Female</td>\n",
       "      <td>Detailee</td>\n",
       "      <td>Per Annum</td>\n",
       "      <td>54629.0</td>\n",
       "    </tr>\n",
       "    <tr>\n",
       "      <th>8</th>\n",
       "      <td>Amorsingh,Lucius Linus</td>\n",
       "      <td>1997</td>\n",
       "      <td>WHITE HOUSE TELEPHONE OPERATOR</td>\n",
       "      <td>Male</td>\n",
       "      <td>Employee</td>\n",
       "      <td>Per Annum</td>\n",
       "      <td>24858.0</td>\n",
       "    </tr>\n",
       "    <tr>\n",
       "      <th>9</th>\n",
       "      <td>Anders,Brenda</td>\n",
       "      <td>1997</td>\n",
       "      <td>RADIO COORDINATOR</td>\n",
       "      <td>Female</td>\n",
       "      <td>Employee</td>\n",
       "      <td>Per Annum</td>\n",
       "      <td>31000.0</td>\n",
       "    </tr>\n",
       "    <tr>\n",
       "      <th>10</th>\n",
       "      <td>Anderson,Lori Lynn</td>\n",
       "      <td>1997</td>\n",
       "      <td>ASSISTANT TO THE PRESS SECRETARY</td>\n",
       "      <td>Female</td>\n",
       "      <td>Employee</td>\n",
       "      <td>Per Annum</td>\n",
       "      <td>30000.0</td>\n",
       "    </tr>\n",
       "    <tr>\n",
       "      <th>11</th>\n",
       "      <td>Attie,Eli G.</td>\n",
       "      <td>1997</td>\n",
       "      <td>SPECIAL ASSISTANT TO THE PRESIDENT FOR COMMUNI...</td>\n",
       "      <td>Male</td>\n",
       "      <td>Employee</td>\n",
       "      <td>Per Annum</td>\n",
       "      <td>70000.0</td>\n",
       "    </tr>\n",
       "    <tr>\n",
       "      <th>12</th>\n",
       "      <td>Aversano,Gene T.</td>\n",
       "      <td>1997</td>\n",
       "      <td>RECORDS MANAGEMENT TECHNICIAN</td>\n",
       "      <td>Male</td>\n",
       "      <td>Employee</td>\n",
       "      <td>Per Annum</td>\n",
       "      <td>24082.0</td>\n",
       "    </tr>\n",
       "    <tr>\n",
       "      <th>13</th>\n",
       "      <td>Bachman,Robin J.</td>\n",
       "      <td>1997</td>\n",
       "      <td>RESEARCHER</td>\n",
       "      <td>Female</td>\n",
       "      <td>Employee</td>\n",
       "      <td>Per Annum</td>\n",
       "      <td>45000.0</td>\n",
       "    </tr>\n",
       "    <tr>\n",
       "      <th>14</th>\n",
       "      <td>Baer,Christine Klima</td>\n",
       "      <td>1997</td>\n",
       "      <td>SPECIAL ASSISTANT</td>\n",
       "      <td>Female</td>\n",
       "      <td>Employee</td>\n",
       "      <td>Per Annum</td>\n",
       "      <td>43442.0</td>\n",
       "    </tr>\n",
       "    <tr>\n",
       "      <th>15</th>\n",
       "      <td>Baer,Donald A.</td>\n",
       "      <td>1997</td>\n",
       "      <td>ASSISTANT TO THE PRESIDENT AND DIRECTOR OF STR...</td>\n",
       "      <td>Male</td>\n",
       "      <td>Employee</td>\n",
       "      <td>Per Annum</td>\n",
       "      <td>125000.0</td>\n",
       "    </tr>\n",
       "    <tr>\n",
       "      <th>16</th>\n",
       "      <td>Bailey,Yvonne G.</td>\n",
       "      <td>1997</td>\n",
       "      <td>WHITE HOUSE TELEPHONE OPERATOR</td>\n",
       "      <td>Female</td>\n",
       "      <td>Employee</td>\n",
       "      <td>Per Annum</td>\n",
       "      <td>27964.0</td>\n",
       "    </tr>\n",
       "    <tr>\n",
       "      <th>17</th>\n",
       "      <td>Baker,Kyle M.</td>\n",
       "      <td>1997</td>\n",
       "      <td>SENIOR WRITER</td>\n",
       "      <td>Male</td>\n",
       "      <td>Employee</td>\n",
       "      <td>Per Annum</td>\n",
       "      <td>30000.0</td>\n",
       "    </tr>\n",
       "    <tr>\n",
       "      <th>18</th>\n",
       "      <td>Balderston,Kris M.</td>\n",
       "      <td>1997</td>\n",
       "      <td>SPECIAL ASSISTANT TO THE PRESIDENT FOR CABINET...</td>\n",
       "      <td>Female</td>\n",
       "      <td>Detailee</td>\n",
       "      <td>Per Annum</td>\n",
       "      <td>108824.0</td>\n",
       "    </tr>\n",
       "    <tr>\n",
       "      <th>19</th>\n",
       "      <td>Baldick,Nicholas R.</td>\n",
       "      <td>1997</td>\n",
       "      <td>EASTERN POLITICAL DIRECTOR</td>\n",
       "      <td>Male</td>\n",
       "      <td>Employee</td>\n",
       "      <td>Per Annum</td>\n",
       "      <td>60000.0</td>\n",
       "    </tr>\n",
       "    <tr>\n",
       "      <th>20</th>\n",
       "      <td>Band,Douglas J.</td>\n",
       "      <td>1997</td>\n",
       "      <td>STAFF ASSISTANT</td>\n",
       "      <td>Male</td>\n",
       "      <td>Employee</td>\n",
       "      <td>Per Annum</td>\n",
       "      <td>30000.0</td>\n",
       "    </tr>\n",
       "    <tr>\n",
       "      <th>21</th>\n",
       "      <td>Barclay,Barbara A.</td>\n",
       "      <td>1997</td>\n",
       "      <td>ADMINISTRATIVE ASSISTANT TO THE STAFF SECRETARY</td>\n",
       "      <td>Female</td>\n",
       "      <td>Employee</td>\n",
       "      <td>Per Annum</td>\n",
       "      <td>53598.0</td>\n",
       "    </tr>\n",
       "    <tr>\n",
       "      <th>22</th>\n",
       "      <td>Barksdale,Antoinette</td>\n",
       "      <td>1997</td>\n",
       "      <td>ATTORNEY - ADVISOR</td>\n",
       "      <td>Female</td>\n",
       "      <td>Detailee</td>\n",
       "      <td>Per Annum</td>\n",
       "      <td>71011.0</td>\n",
       "    </tr>\n",
       "    <tr>\n",
       "      <th>23</th>\n",
       "      <td>Barnes,Beverly L.</td>\n",
       "      <td>1997</td>\n",
       "      <td>SENIOR ADVISOR TO THE CHIEF OF STAFF</td>\n",
       "      <td>Female</td>\n",
       "      <td>Employee</td>\n",
       "      <td>Per Annum</td>\n",
       "      <td>90000.0</td>\n",
       "    </tr>\n",
       "    <tr>\n",
       "      <th>24</th>\n",
       "      <td>Barry,Kathleen A.</td>\n",
       "      <td>1997</td>\n",
       "      <td>STAFF ASSISTANT</td>\n",
       "      <td>Female</td>\n",
       "      <td>Employee</td>\n",
       "      <td>Per Annum</td>\n",
       "      <td>25000.0</td>\n",
       "    </tr>\n",
       "    <tr>\n",
       "      <th>25</th>\n",
       "      <td>Bass,Walker F.</td>\n",
       "      <td>1997</td>\n",
       "      <td>DEPUTY ASSOCIATE DIRECTOR</td>\n",
       "      <td>Male</td>\n",
       "      <td>Employee</td>\n",
       "      <td>Per Annum</td>\n",
       "      <td>30000.0</td>\n",
       "    </tr>\n",
       "    <tr>\n",
       "      <th>26</th>\n",
       "      <td>Bates,Melinda N.</td>\n",
       "      <td>1997</td>\n",
       "      <td>SPECIAL ASSISTANT TO THE PRESIDENT AND DIRECTO...</td>\n",
       "      <td>Female</td>\n",
       "      <td>Employee</td>\n",
       "      <td>Per Annum</td>\n",
       "      <td>59000.0</td>\n",
       "    </tr>\n",
       "    <tr>\n",
       "      <th>27</th>\n",
       "      <td>Bean,Eileen F.</td>\n",
       "      <td>1997</td>\n",
       "      <td>WHITE HOUSE TELEPHONE OPERATOR ASSISTANT SUPER...</td>\n",
       "      <td>Female</td>\n",
       "      <td>Employee</td>\n",
       "      <td>Per Annum</td>\n",
       "      <td>41866.0</td>\n",
       "    </tr>\n",
       "    <tr>\n",
       "      <th>28</th>\n",
       "      <td>Beaubaire,David S.</td>\n",
       "      <td>1997</td>\n",
       "      <td>SPECIAL ASSISTANT TO THE CABINET SECRETARY &amp; D...</td>\n",
       "      <td>Male</td>\n",
       "      <td>Employee</td>\n",
       "      <td>Per Annum</td>\n",
       "      <td>40000.0</td>\n",
       "    </tr>\n",
       "    <tr>\n",
       "      <th>29</th>\n",
       "      <td>Bedwell,Wendy Lynette</td>\n",
       "      <td>1997</td>\n",
       "      <td>RECORDS MANAGEMENT TECHNICIAN</td>\n",
       "      <td>Female</td>\n",
       "      <td>Employee</td>\n",
       "      <td>Per Annum</td>\n",
       "      <td>25897.0</td>\n",
       "    </tr>\n",
       "    <tr>\n",
       "      <th>30</th>\n",
       "      <td>Belsky,David</td>\n",
       "      <td>1997</td>\n",
       "      <td>EDITORIAL ASSISTANT</td>\n",
       "      <td>Male</td>\n",
       "      <td>Employee</td>\n",
       "      <td>Per Annum</td>\n",
       "      <td>27000.0</td>\n",
       "    </tr>\n",
       "    <tr>\n",
       "      <th>31</th>\n",
       "      <td>Bennett,Jacquelyn J.</td>\n",
       "      <td>1997</td>\n",
       "      <td>FINANCIAL MANAGER</td>\n",
       "      <td>Female</td>\n",
       "      <td>Employee</td>\n",
       "      <td>Per Annum</td>\n",
       "      <td>45000.0</td>\n",
       "    </tr>\n",
       "    <tr>\n",
       "      <th>32</th>\n",
       "      <td>Berger,Samuel R.</td>\n",
       "      <td>1997</td>\n",
       "      <td>ASSISTANT TO THE PRESIDENT FOR NATIONAL SECURI...</td>\n",
       "      <td>Male</td>\n",
       "      <td>Employee</td>\n",
       "      <td>Per Annum</td>\n",
       "      <td>125000.0</td>\n",
       "    </tr>\n",
       "    <tr>\n",
       "      <th>33</th>\n",
       "      <td>Berry,Marsha E.</td>\n",
       "      <td>1997</td>\n",
       "      <td>DEPUTY ASSISTANT TO THE PRESIDENT &amp; DIRECTOR O...</td>\n",
       "      <td>Female</td>\n",
       "      <td>Employee</td>\n",
       "      <td>Per Annum</td>\n",
       "      <td>85000.0</td>\n",
       "    </tr>\n",
       "    <tr>\n",
       "      <th>34</th>\n",
       "      <td>Beveridge,Susan</td>\n",
       "      <td>1997</td>\n",
       "      <td>SENIOR CASE WORKER</td>\n",
       "      <td>Female</td>\n",
       "      <td>Employee</td>\n",
       "      <td>Per Annum</td>\n",
       "      <td>31500.0</td>\n",
       "    </tr>\n",
       "    <tr>\n",
       "      <th>35</th>\n",
       "      <td>Bianchi,Sarah Abigail</td>\n",
       "      <td>1997</td>\n",
       "      <td>ASSISTANT DIRECTOR FOR HEALTH POLICY</td>\n",
       "      <td>Female</td>\n",
       "      <td>Employee</td>\n",
       "      <td>Per Annum</td>\n",
       "      <td>40000.0</td>\n",
       "    </tr>\n",
       "    <tr>\n",
       "      <th>36</th>\n",
       "      <td>Binns,Mary U.</td>\n",
       "      <td>1997</td>\n",
       "      <td>CORRESPONDENCE ANALYST</td>\n",
       "      <td>Female</td>\n",
       "      <td>Employee</td>\n",
       "      <td>Per Annum</td>\n",
       "      <td>33792.0</td>\n",
       "    </tr>\n",
       "    <tr>\n",
       "      <th>37</th>\n",
       "      <td>Bird,Debra D.</td>\n",
       "      <td>1997</td>\n",
       "      <td>OFFICE MANAGER</td>\n",
       "      <td>Female</td>\n",
       "      <td>Employee</td>\n",
       "      <td>Per Annum</td>\n",
       "      <td>42164.0</td>\n",
       "    </tr>\n",
       "    <tr>\n",
       "      <th>38</th>\n",
       "      <td>Blinken,Antony J.</td>\n",
       "      <td>1997</td>\n",
       "      <td>SPECIAL ASSISTANT TO THE PRESIDENT FOR STRATEG...</td>\n",
       "      <td>Male</td>\n",
       "      <td>Employee</td>\n",
       "      <td>Per Annum</td>\n",
       "      <td>100000.0</td>\n",
       "    </tr>\n",
       "    <tr>\n",
       "      <th>39</th>\n",
       "      <td>Blocker,Ananias,III</td>\n",
       "      <td>1997</td>\n",
       "      <td>SPECIAL ASSISTANT TO THE PRESIDENT FOR LEGISLA...</td>\n",
       "      <td>Male</td>\n",
       "      <td>Employee</td>\n",
       "      <td>Per Annum</td>\n",
       "      <td>70000.0</td>\n",
       "    </tr>\n",
       "    <tr>\n",
       "      <th>40</th>\n",
       "      <td>Blunt,Shenna C.</td>\n",
       "      <td>1997</td>\n",
       "      <td>ADMINISTRATIVE SUPPORT ASSISTANT</td>\n",
       "      <td>Female</td>\n",
       "      <td>Employee</td>\n",
       "      <td>Per Annum</td>\n",
       "      <td>22500.0</td>\n",
       "    </tr>\n",
       "    <tr>\n",
       "      <th>41</th>\n",
       "      <td>Bohrer,George H.</td>\n",
       "      <td>1997</td>\n",
       "      <td>SPECIAL PROJECTS ASSISTANT FOR PRINTING</td>\n",
       "      <td>Male</td>\n",
       "      <td>Employee</td>\n",
       "      <td>Per Annum</td>\n",
       "      <td>45997.0</td>\n",
       "    </tr>\n",
       "    <tr>\n",
       "      <th>42</th>\n",
       "      <td>Bowles,Erskine B.</td>\n",
       "      <td>1997</td>\n",
       "      <td>CHIEF OF STAFF TO THE PRESIDENT</td>\n",
       "      <td>Male</td>\n",
       "      <td>Employee</td>\n",
       "      <td>Per Annum</td>\n",
       "      <td>1.0</td>\n",
       "    </tr>\n",
       "    <tr>\n",
       "      <th>43</th>\n",
       "      <td>Breuer,Lanny A.</td>\n",
       "      <td>1997</td>\n",
       "      <td>SPECIAL COUNSEL TO THE PRESIDENT</td>\n",
       "      <td>Male</td>\n",
       "      <td>Employee</td>\n",
       "      <td>Per Annum</td>\n",
       "      <td>107500.0</td>\n",
       "    </tr>\n",
       "    <tr>\n",
       "      <th>44</th>\n",
       "      <td>Briggs,Patrick Edward Jude</td>\n",
       "      <td>1997</td>\n",
       "      <td>DEPUTY DIRECTOR OF PRESIDENTIAL INQUIRIES</td>\n",
       "      <td>Male</td>\n",
       "      <td>Employee</td>\n",
       "      <td>Per Annum</td>\n",
       "      <td>31500.0</td>\n",
       "    </tr>\n",
       "    <tr>\n",
       "      <th>45</th>\n",
       "      <td>Bromberg,Emily</td>\n",
       "      <td>1997</td>\n",
       "      <td>DEPUTY ASSISTANT TO THE PRESIDENT &amp; DEPUTY DIR...</td>\n",
       "      <td>Female</td>\n",
       "      <td>Employee</td>\n",
       "      <td>Per Annum</td>\n",
       "      <td>80000.0</td>\n",
       "    </tr>\n",
       "    <tr>\n",
       "      <th>46</th>\n",
       "      <td>Brophy,Susan A.</td>\n",
       "      <td>1997</td>\n",
       "      <td>DEPUTY ASSISTANT TO THE PRESIDENT &amp; DEPUTY DIR...</td>\n",
       "      <td>Female</td>\n",
       "      <td>Employee</td>\n",
       "      <td>Per Annum</td>\n",
       "      <td>110000.0</td>\n",
       "    </tr>\n",
       "    <tr>\n",
       "      <th>47</th>\n",
       "      <td>Brown,Margueritte B.</td>\n",
       "      <td>1997</td>\n",
       "      <td>ASSISTANT FOR CORRESPONDENCE</td>\n",
       "      <td>Female</td>\n",
       "      <td>Detailee</td>\n",
       "      <td>Per Annum</td>\n",
       "      <td>83528.0</td>\n",
       "    </tr>\n",
       "    <tr>\n",
       "      <th>48</th>\n",
       "      <td>Burkhardt,Daniel W.</td>\n",
       "      <td>1997</td>\n",
       "      <td>DEPUTY DIRECTOR OF CORRESPONDENCE &amp; PRESIDENTI...</td>\n",
       "      <td>Male</td>\n",
       "      <td>Employee</td>\n",
       "      <td>Per Annum</td>\n",
       "      <td>60000.0</td>\n",
       "    </tr>\n",
       "    <tr>\n",
       "      <th>49</th>\n",
       "      <td>Button,Katharine M.</td>\n",
       "      <td>1997</td>\n",
       "      <td>ASSISTANT TO THE CHIEF OF STAFF TO THE FIRST LADY</td>\n",
       "      <td>Female</td>\n",
       "      <td>Employee</td>\n",
       "      <td>Per Annum</td>\n",
       "      <td>30000.0</td>\n",
       "    </tr>\n",
       "    <tr>\n",
       "      <th>50</th>\n",
       "      <td>Byrd,Kimberley J.</td>\n",
       "      <td>1997</td>\n",
       "      <td>WHITE HOUSE TELEPHONE OPERATOR</td>\n",
       "      <td>Female</td>\n",
       "      <td>Employee</td>\n",
       "      <td>Per Annum</td>\n",
       "      <td>23305.0</td>\n",
       "    </tr>\n",
       "    <tr>\n",
       "      <th>51</th>\n",
       "      <td>Cameron,Rebecca A.</td>\n",
       "      <td>1997</td>\n",
       "      <td>STAFF ASSISTANT</td>\n",
       "      <td>Female</td>\n",
       "      <td>Employee</td>\n",
       "      <td>Per Annum</td>\n",
       "      <td>35000.0</td>\n",
       "    </tr>\n",
       "    <tr>\n",
       "      <th>52</th>\n",
       "      <td>Campbell,Frances L.</td>\n",
       "      <td>1997</td>\n",
       "      <td>SUPERVISOR DATA ENTRY UNIT</td>\n",
       "      <td>Female</td>\n",
       "      <td>Employee</td>\n",
       "      <td>Per Annum</td>\n",
       "      <td>44719.0</td>\n",
       "    </tr>\n",
       "    <tr>\n",
       "      <th>53</th>\n",
       "      <td>Canter,Virginia R.</td>\n",
       "      <td>1997</td>\n",
       "      <td>ASSOCIATE COUNSEL TO THE PRESIDENT</td>\n",
       "      <td>Female</td>\n",
       "      <td>Employee</td>\n",
       "      <td>Per Annum</td>\n",
       "      <td>92000.0</td>\n",
       "    </tr>\n",
       "    <tr>\n",
       "      <th>54</th>\n",
       "      <td>Caplan,Phillip</td>\n",
       "      <td>1997</td>\n",
       "      <td>DEPUTY ASSISTANT TO PRESIDENT &amp; DEPUTY STAFF S...</td>\n",
       "      <td>Male</td>\n",
       "      <td>Employee</td>\n",
       "      <td>Per Annum</td>\n",
       "      <td>90000.0</td>\n",
       "    </tr>\n",
       "    <tr>\n",
       "      <th>55</th>\n",
       "      <td>Capps,Laura Karolina</td>\n",
       "      <td>1997</td>\n",
       "      <td>STAFF DIRECTOR FOR THE OFFICE OF SPEECHWRITING</td>\n",
       "      <td>Female</td>\n",
       "      <td>Employee</td>\n",
       "      <td>Per Annum</td>\n",
       "      <td>34000.0</td>\n",
       "    </tr>\n",
       "    <tr>\n",
       "      <th>56</th>\n",
       "      <td>Caramanica,Janice</td>\n",
       "      <td>1997</td>\n",
       "      <td>ATTORNEY - ADVISOR</td>\n",
       "      <td>Female</td>\n",
       "      <td>Detailee</td>\n",
       "      <td>Per Annum</td>\n",
       "      <td>56450.0</td>\n",
       "    </tr>\n",
       "    <tr>\n",
       "      <th>57</th>\n",
       "      <td>Carey,Paul R.</td>\n",
       "      <td>1997</td>\n",
       "      <td>SPECIAL ASSISTANT (SENATE LIAISON)</td>\n",
       "      <td>Male</td>\n",
       "      <td>Employee</td>\n",
       "      <td>Per Annum</td>\n",
       "      <td>75000.0</td>\n",
       "    </tr>\n",
       "    <tr>\n",
       "      <th>58</th>\n",
       "      <td>Carter,Cheryl M. Cole</td>\n",
       "      <td>1997</td>\n",
       "      <td>SPECIAL ASSISTANT TO THE PRESIDENT FOR PUBLIC ...</td>\n",
       "      <td>Female</td>\n",
       "      <td>Employee</td>\n",
       "      <td>Per Annum</td>\n",
       "      <td>85000.0</td>\n",
       "    </tr>\n",
       "    <tr>\n",
       "      <th>59</th>\n",
       "      <td>Castleman,Helen S.</td>\n",
       "      <td>1997</td>\n",
       "      <td>SENIOR CASE WORKER</td>\n",
       "      <td>Female</td>\n",
       "      <td>Employee</td>\n",
       "      <td>Per Annum</td>\n",
       "      <td>28500.0</td>\n",
       "    </tr>\n",
       "  </tbody>\n",
       "</table>\n",
       "</div>"
      ],
      "text/plain": [
       "                          name  year  \\\n",
       "0               Abedin,Huma M.  1997   \n",
       "1               Abrams,Lori E.  1997   \n",
       "2              Alcorn,Brian A.  1997   \n",
       "3          Allen,Jeannetta Pam  1997   \n",
       "4           Allison,Donna Tate  1997   \n",
       "5            Alston,Mildred C.  1997   \n",
       "6              Alterescu,Louis  1997   \n",
       "7              Amador,Patricia  1997   \n",
       "8       Amorsingh,Lucius Linus  1997   \n",
       "9                Anders,Brenda  1997   \n",
       "10          Anderson,Lori Lynn  1997   \n",
       "11                Attie,Eli G.  1997   \n",
       "12            Aversano,Gene T.  1997   \n",
       "13            Bachman,Robin J.  1997   \n",
       "14        Baer,Christine Klima  1997   \n",
       "15              Baer,Donald A.  1997   \n",
       "16            Bailey,Yvonne G.  1997   \n",
       "17               Baker,Kyle M.  1997   \n",
       "18          Balderston,Kris M.  1997   \n",
       "19         Baldick,Nicholas R.  1997   \n",
       "20             Band,Douglas J.  1997   \n",
       "21          Barclay,Barbara A.  1997   \n",
       "22        Barksdale,Antoinette  1997   \n",
       "23           Barnes,Beverly L.  1997   \n",
       "24           Barry,Kathleen A.  1997   \n",
       "25              Bass,Walker F.  1997   \n",
       "26            Bates,Melinda N.  1997   \n",
       "27              Bean,Eileen F.  1997   \n",
       "28          Beaubaire,David S.  1997   \n",
       "29       Bedwell,Wendy Lynette  1997   \n",
       "30                Belsky,David  1997   \n",
       "31        Bennett,Jacquelyn J.  1997   \n",
       "32            Berger,Samuel R.  1997   \n",
       "33             Berry,Marsha E.  1997   \n",
       "34             Beveridge,Susan  1997   \n",
       "35       Bianchi,Sarah Abigail  1997   \n",
       "36               Binns,Mary U.  1997   \n",
       "37               Bird,Debra D.  1997   \n",
       "38           Blinken,Antony J.  1997   \n",
       "39         Blocker,Ananias,III  1997   \n",
       "40             Blunt,Shenna C.  1997   \n",
       "41            Bohrer,George H.  1997   \n",
       "42           Bowles,Erskine B.  1997   \n",
       "43             Breuer,Lanny A.  1997   \n",
       "44  Briggs,Patrick Edward Jude  1997   \n",
       "45              Bromberg,Emily  1997   \n",
       "46             Brophy,Susan A.  1997   \n",
       "47        Brown,Margueritte B.  1997   \n",
       "48         Burkhardt,Daniel W.  1997   \n",
       "49         Button,Katharine M.  1997   \n",
       "50           Byrd,Kimberley J.  1997   \n",
       "51          Cameron,Rebecca A.  1997   \n",
       "52         Campbell,Frances L.  1997   \n",
       "53          Canter,Virginia R.  1997   \n",
       "54              Caplan,Phillip  1997   \n",
       "55        Capps,Laura Karolina  1997   \n",
       "56           Caramanica,Janice  1997   \n",
       "57               Carey,Paul R.  1997   \n",
       "58       Carter,Cheryl M. Cole  1997   \n",
       "59          Castleman,Helen S.  1997   \n",
       "\n",
       "                                       position_title  gender    status  \\\n",
       "0                                      OFFICE MANAGER  Female  Employee   \n",
       "1                  DEPUTY DIRECTOR, WHITE HOUSE GIFTS  Female  Employee   \n",
       "2                      ASSISTANT DIRECTOR FOR ADVANCE    Male  Employee   \n",
       "3                                     STAFF ASSISTANT  Female  Employee   \n",
       "4                      WHITE HOUSE TELEPHONE OPERATOR  Female  Employee   \n",
       "5           SPECIAL ASSISTANT PERSONAL CORRESPONDENCE  Female  Employee   \n",
       "6                                  ATTORNEY - ADVISOR    Male  Detailee   \n",
       "7                                  ATTORNEY - ADVISOR  Female  Detailee   \n",
       "8                      WHITE HOUSE TELEPHONE OPERATOR    Male  Employee   \n",
       "9                                   RADIO COORDINATOR  Female  Employee   \n",
       "10                   ASSISTANT TO THE PRESS SECRETARY  Female  Employee   \n",
       "11  SPECIAL ASSISTANT TO THE PRESIDENT FOR COMMUNI...    Male  Employee   \n",
       "12                      RECORDS MANAGEMENT TECHNICIAN    Male  Employee   \n",
       "13                                         RESEARCHER  Female  Employee   \n",
       "14                                  SPECIAL ASSISTANT  Female  Employee   \n",
       "15  ASSISTANT TO THE PRESIDENT AND DIRECTOR OF STR...    Male  Employee   \n",
       "16                     WHITE HOUSE TELEPHONE OPERATOR  Female  Employee   \n",
       "17                                      SENIOR WRITER    Male  Employee   \n",
       "18  SPECIAL ASSISTANT TO THE PRESIDENT FOR CABINET...  Female  Detailee   \n",
       "19                         EASTERN POLITICAL DIRECTOR    Male  Employee   \n",
       "20                                    STAFF ASSISTANT    Male  Employee   \n",
       "21    ADMINISTRATIVE ASSISTANT TO THE STAFF SECRETARY  Female  Employee   \n",
       "22                                 ATTORNEY - ADVISOR  Female  Detailee   \n",
       "23               SENIOR ADVISOR TO THE CHIEF OF STAFF  Female  Employee   \n",
       "24                                    STAFF ASSISTANT  Female  Employee   \n",
       "25                          DEPUTY ASSOCIATE DIRECTOR    Male  Employee   \n",
       "26  SPECIAL ASSISTANT TO THE PRESIDENT AND DIRECTO...  Female  Employee   \n",
       "27  WHITE HOUSE TELEPHONE OPERATOR ASSISTANT SUPER...  Female  Employee   \n",
       "28  SPECIAL ASSISTANT TO THE CABINET SECRETARY & D...    Male  Employee   \n",
       "29                      RECORDS MANAGEMENT TECHNICIAN  Female  Employee   \n",
       "30                                EDITORIAL ASSISTANT    Male  Employee   \n",
       "31                                  FINANCIAL MANAGER  Female  Employee   \n",
       "32  ASSISTANT TO THE PRESIDENT FOR NATIONAL SECURI...    Male  Employee   \n",
       "33  DEPUTY ASSISTANT TO THE PRESIDENT & DIRECTOR O...  Female  Employee   \n",
       "34                                 SENIOR CASE WORKER  Female  Employee   \n",
       "35               ASSISTANT DIRECTOR FOR HEALTH POLICY  Female  Employee   \n",
       "36                             CORRESPONDENCE ANALYST  Female  Employee   \n",
       "37                                     OFFICE MANAGER  Female  Employee   \n",
       "38  SPECIAL ASSISTANT TO THE PRESIDENT FOR STRATEG...    Male  Employee   \n",
       "39  SPECIAL ASSISTANT TO THE PRESIDENT FOR LEGISLA...    Male  Employee   \n",
       "40                   ADMINISTRATIVE SUPPORT ASSISTANT  Female  Employee   \n",
       "41            SPECIAL PROJECTS ASSISTANT FOR PRINTING    Male  Employee   \n",
       "42                    CHIEF OF STAFF TO THE PRESIDENT    Male  Employee   \n",
       "43                   SPECIAL COUNSEL TO THE PRESIDENT    Male  Employee   \n",
       "44          DEPUTY DIRECTOR OF PRESIDENTIAL INQUIRIES    Male  Employee   \n",
       "45  DEPUTY ASSISTANT TO THE PRESIDENT & DEPUTY DIR...  Female  Employee   \n",
       "46  DEPUTY ASSISTANT TO THE PRESIDENT & DEPUTY DIR...  Female  Employee   \n",
       "47                       ASSISTANT FOR CORRESPONDENCE  Female  Detailee   \n",
       "48  DEPUTY DIRECTOR OF CORRESPONDENCE & PRESIDENTI...    Male  Employee   \n",
       "49  ASSISTANT TO THE CHIEF OF STAFF TO THE FIRST LADY  Female  Employee   \n",
       "50                     WHITE HOUSE TELEPHONE OPERATOR  Female  Employee   \n",
       "51                                    STAFF ASSISTANT  Female  Employee   \n",
       "52                         SUPERVISOR DATA ENTRY UNIT  Female  Employee   \n",
       "53                 ASSOCIATE COUNSEL TO THE PRESIDENT  Female  Employee   \n",
       "54  DEPUTY ASSISTANT TO PRESIDENT & DEPUTY STAFF S...    Male  Employee   \n",
       "55     STAFF DIRECTOR FOR THE OFFICE OF SPEECHWRITING  Female  Employee   \n",
       "56                                 ATTORNEY - ADVISOR  Female  Detailee   \n",
       "57                 SPECIAL ASSISTANT (SENATE LIAISON)    Male  Employee   \n",
       "58  SPECIAL ASSISTANT TO THE PRESIDENT FOR PUBLIC ...  Female  Employee   \n",
       "59                                 SENIOR CASE WORKER  Female  Employee   \n",
       "\n",
       "    pay_basis    salary  \n",
       "0   Per Annum   27500.0  \n",
       "1   Per Annum   35000.0  \n",
       "2   Per Annum   25000.0  \n",
       "3   Per Annum   22000.0  \n",
       "4   Per Annum   27624.0  \n",
       "5   Per Annum   47000.0  \n",
       "6   Per Annum   73163.0  \n",
       "7   Per Annum   54629.0  \n",
       "8   Per Annum   24858.0  \n",
       "9   Per Annum   31000.0  \n",
       "10  Per Annum   30000.0  \n",
       "11  Per Annum   70000.0  \n",
       "12  Per Annum   24082.0  \n",
       "13  Per Annum   45000.0  \n",
       "14  Per Annum   43442.0  \n",
       "15  Per Annum  125000.0  \n",
       "16  Per Annum   27964.0  \n",
       "17  Per Annum   30000.0  \n",
       "18  Per Annum  108824.0  \n",
       "19  Per Annum   60000.0  \n",
       "20  Per Annum   30000.0  \n",
       "21  Per Annum   53598.0  \n",
       "22  Per Annum   71011.0  \n",
       "23  Per Annum   90000.0  \n",
       "24  Per Annum   25000.0  \n",
       "25  Per Annum   30000.0  \n",
       "26  Per Annum   59000.0  \n",
       "27  Per Annum   41866.0  \n",
       "28  Per Annum   40000.0  \n",
       "29  Per Annum   25897.0  \n",
       "30  Per Annum   27000.0  \n",
       "31  Per Annum   45000.0  \n",
       "32  Per Annum  125000.0  \n",
       "33  Per Annum   85000.0  \n",
       "34  Per Annum   31500.0  \n",
       "35  Per Annum   40000.0  \n",
       "36  Per Annum   33792.0  \n",
       "37  Per Annum   42164.0  \n",
       "38  Per Annum  100000.0  \n",
       "39  Per Annum   70000.0  \n",
       "40  Per Annum   22500.0  \n",
       "41  Per Annum   45997.0  \n",
       "42  Per Annum       1.0  \n",
       "43  Per Annum  107500.0  \n",
       "44  Per Annum   31500.0  \n",
       "45  Per Annum   80000.0  \n",
       "46  Per Annum  110000.0  \n",
       "47  Per Annum   83528.0  \n",
       "48  Per Annum   60000.0  \n",
       "49  Per Annum   30000.0  \n",
       "50  Per Annum   23305.0  \n",
       "51  Per Annum   35000.0  \n",
       "52  Per Annum   44719.0  \n",
       "53  Per Annum   92000.0  \n",
       "54  Per Annum   90000.0  \n",
       "55  Per Annum   34000.0  \n",
       "56  Per Annum   56450.0  \n",
       "57  Per Annum   75000.0  \n",
       "58  Per Annum   85000.0  \n",
       "59  Per Annum   28500.0  "
      ]
     },
     "execution_count": 48,
     "metadata": {},
     "output_type": "execute_result"
    }
   ],
   "source": [
    "data.head(60)"
   ]
  },
  {
   "cell_type": "code",
   "execution_count": 49,
   "id": "5ec9742b",
   "metadata": {},
   "outputs": [
    {
     "data": {
      "text/plain": [
       "name               object\n",
       "year                int64\n",
       "position_title     object\n",
       "gender             object\n",
       "status             object\n",
       "pay_basis          object\n",
       "salary            float64\n",
       "dtype: object"
      ]
     },
     "execution_count": 49,
     "metadata": {},
     "output_type": "execute_result"
    }
   ],
   "source": [
    "data.dtypes"
   ]
  },
  {
   "cell_type": "code",
   "execution_count": 50,
   "id": "0be67a27",
   "metadata": {},
   "outputs": [
    {
     "data": {
      "text/plain": [
       "(10600, 7)"
      ]
     },
     "execution_count": 50,
     "metadata": {},
     "output_type": "execute_result"
    }
   ],
   "source": [
    "data.shape"
   ]
  },
  {
   "cell_type": "code",
   "execution_count": 51,
   "id": "02cd20b0",
   "metadata": {},
   "outputs": [
    {
     "data": {
      "text/plain": [
       "name              3\n",
       "year              0\n",
       "position_title    2\n",
       "gender            3\n",
       "status            0\n",
       "pay_basis         7\n",
       "salary            5\n",
       "dtype: int64"
      ]
     },
     "execution_count": 51,
     "metadata": {},
     "output_type": "execute_result"
    }
   ],
   "source": [
    "data.isna().sum()"
   ]
  },
  {
   "cell_type": "markdown",
   "id": "846146d2",
   "metadata": {},
   "source": [
    "# Dealing with NaNs in gender and Salary column"
   ]
  },
  {
   "cell_type": "code",
   "execution_count": 52,
   "id": "cba6472f",
   "metadata": {},
   "outputs": [
    {
     "data": {
      "text/plain": [
       "Female    5595\n",
       "Male      5002\n",
       "NaN          3\n",
       "Name: gender, dtype: int64"
      ]
     },
     "execution_count": 52,
     "metadata": {},
     "output_type": "execute_result"
    }
   ],
   "source": [
    "data['gender'].value_counts(dropna=False)"
   ]
  },
  {
   "cell_type": "code",
   "execution_count": 53,
   "id": "3d4fda67",
   "metadata": {},
   "outputs": [],
   "source": [
    "data['gender'] = data['gender'].fillna('Female')"
   ]
  },
  {
   "cell_type": "code",
   "execution_count": 54,
   "id": "08a0f4d7",
   "metadata": {},
   "outputs": [
    {
     "data": {
      "text/plain": [
       "Female    5598\n",
       "Male      5002\n",
       "Name: gender, dtype: int64"
      ]
     },
     "execution_count": 54,
     "metadata": {},
     "output_type": "execute_result"
    }
   ],
   "source": [
    "data['gender'].value_counts(dropna=False)"
   ]
  },
  {
   "cell_type": "markdown",
   "id": "72d43d47",
   "metadata": {},
   "source": [
    "##### For salary"
   ]
  },
  {
   "cell_type": "code",
   "execution_count": 55,
   "id": "f24ff6e4",
   "metadata": {},
   "outputs": [],
   "source": [
    "mean__salary = data['salary'].mean()"
   ]
  },
  {
   "cell_type": "code",
   "execution_count": 56,
   "id": "e90130ea",
   "metadata": {},
   "outputs": [
    {
     "data": {
      "text/plain": [
       "75185.34063237376"
      ]
     },
     "execution_count": 56,
     "metadata": {},
     "output_type": "execute_result"
    }
   ],
   "source": [
    "mean__salary"
   ]
  },
  {
   "cell_type": "code",
   "execution_count": 57,
   "id": "214b9a2a",
   "metadata": {},
   "outputs": [],
   "source": [
    "data['salary'] = data['salary'].fillna(mean__salary)"
   ]
  },
  {
   "cell_type": "markdown",
   "id": "e09d16ab",
   "metadata": {},
   "source": [
    "###### For pay basis"
   ]
  },
  {
   "cell_type": "code",
   "execution_count": 58,
   "id": "62762a32",
   "metadata": {},
   "outputs": [
    {
     "data": {
      "text/plain": [
       "Per Annum    10589\n",
       "NaN              7\n",
       "Per Diem         4\n",
       "Name: pay_basis, dtype: int64"
      ]
     },
     "execution_count": 58,
     "metadata": {},
     "output_type": "execute_result"
    }
   ],
   "source": [
    "data['pay_basis'].value_counts(dropna=False)"
   ]
  },
  {
   "cell_type": "code",
   "execution_count": 59,
   "id": "9bced2b0",
   "metadata": {},
   "outputs": [],
   "source": [
    "data['pay_basis'] = data['pay_basis'].fillna('Per Annum')"
   ]
  },
  {
   "cell_type": "markdown",
   "id": "4cf636ae",
   "metadata": {},
   "source": [
    "##### For position_title"
   ]
  },
  {
   "cell_type": "code",
   "execution_count": 60,
   "id": "9ce0e59b",
   "metadata": {},
   "outputs": [
    {
     "data": {
      "text/plain": [
       "2397"
      ]
     },
     "execution_count": 60,
     "metadata": {},
     "output_type": "execute_result"
    }
   ],
   "source": [
    "len(data['position_title'].unique())"
   ]
  },
  {
   "cell_type": "code",
   "execution_count": 61,
   "id": "4691df59",
   "metadata": {},
   "outputs": [
    {
     "data": {
      "text/plain": [
       "STAFF ASSISTANT                                                              623\n",
       "ASSOCIATE DIRECTOR                                                           364\n",
       "RECORDS MANAGEMENT ANALYST                                                   288\n",
       "DEPUTY ASSOCIATE DIRECTOR                                                    220\n",
       "EXECUTIVE ASSISTANT                                                          210\n",
       "ASSOCIATE COUNSEL TO THE PRESIDENT                                           167\n",
       "SPECIAL ASSISTANT TO THE PRESIDENT FOR LEGISLATIVE AFFAIRS                   163\n",
       "SPECIAL ASSISTANT                                                            149\n",
       "INFORMATION SERVICES OPERATOR                                                122\n",
       "CORRESPONDENCE ANALYST                                                       102\n",
       "ANALYST                                                                       99\n",
       "SENIOR POLICY ADVISOR                                                         84\n",
       "SPECIAL ASSISTANT TO THE PRESIDENT AND ASSOCIATE COUNSEL TO THE PRESIDENT     83\n",
       "PRESS ASSISTANT                                                               82\n",
       "POLICY ADVISOR                                                                76\n",
       "WRITER                                                                        74\n",
       "ASSISTANT TO THE EXECUTIVE CLERK                                              69\n",
       "ASSISTANT PRESS SECRETARY                                                     59\n",
       "LEGISLATIVE ASSISTANT                                                         50\n",
       "SPECIAL ASSISTANT TO THE PRESIDENT FOR PRESIDENTIAL PERSONNEL                 50\n",
       "Name: position_title, dtype: int64"
      ]
     },
     "execution_count": 61,
     "metadata": {},
     "output_type": "execute_result"
    }
   ],
   "source": [
    "data['position_title'].value_counts(dropna=False).head(20)"
   ]
  },
  {
   "cell_type": "code",
   "execution_count": 62,
   "id": "aa035607",
   "metadata": {},
   "outputs": [],
   "source": [
    "data['position_title'] = data['position_title'].fillna('STAFF ASSISTANT')"
   ]
  },
  {
   "cell_type": "markdown",
   "id": "d5677060",
   "metadata": {},
   "source": [
    "##### For name"
   ]
  },
  {
   "cell_type": "code",
   "execution_count": 63,
   "id": "40a50e34",
   "metadata": {},
   "outputs": [
    {
     "data": {
      "text/plain": [
       "McCathran,William W.      24\n",
       "Trainor,Gregory T.        24\n",
       "Kalbaugh,David E.         24\n",
       "Williams,Sherman A.       24\n",
       "Thomas,Edwin R.,III       24\n",
       "                          ..\n",
       "Albright,Craig M.          1\n",
       "Amin,Vishal J.             1\n",
       "Andrews,Alexandra S.       1\n",
       "Avery,Tyson Mcallister     1\n",
       "Yanick,Brittany M.         1\n",
       "Name: name, Length: 4659, dtype: int64"
      ]
     },
     "execution_count": 63,
     "metadata": {},
     "output_type": "execute_result"
    }
   ],
   "source": [
    "data['name'].value_counts(dropna=False)"
   ]
  },
  {
   "cell_type": "code",
   "execution_count": 64,
   "id": "269c9636",
   "metadata": {},
   "outputs": [
    {
     "data": {
      "text/plain": [
       "(10597, 7)"
      ]
     },
     "execution_count": 64,
     "metadata": {},
     "output_type": "execute_result"
    }
   ],
   "source": [
    " data = data.dropna()\n",
    "data.shape"
   ]
  },
  {
   "cell_type": "code",
   "execution_count": 65,
   "id": "bd9bce33",
   "metadata": {},
   "outputs": [
    {
     "data": {
      "text/plain": [
       "name              0\n",
       "year              0\n",
       "position_title    0\n",
       "gender            0\n",
       "status            0\n",
       "pay_basis         0\n",
       "salary            0\n",
       "dtype: int64"
      ]
     },
     "execution_count": 65,
     "metadata": {},
     "output_type": "execute_result"
    }
   ],
   "source": [
    "data.isna().sum()\n"
   ]
  },
  {
   "cell_type": "code",
   "execution_count": null,
   "id": "02eb1b3a",
   "metadata": {},
   "outputs": [],
   "source": []
  },
  {
   "cell_type": "markdown",
   "id": "a117339c",
   "metadata": {},
   "source": [
    "# Categorizing each worker to Administration under which they served"
   ]
  },
  {
   "cell_type": "code",
   "execution_count": 66,
   "id": "11f6ab55",
   "metadata": {},
   "outputs": [],
   "source": [
    "\n",
    "def admin(x):\n",
    "    if x <2001:\n",
    "        return 'Clinton Administration'\n",
    "    elif x< 2009:\n",
    "        return 'Bush administration'\n",
    "    elif x <2017:\n",
    "        return \"Obama Administration\"\n",
    "    else:\n",
    "        return 'Trump Administration'"
   ]
  },
  {
   "cell_type": "code",
   "execution_count": 67,
   "id": "83b9a5b0",
   "metadata": {},
   "outputs": [],
   "source": [
    "data['served_under'] = data[\"year\"].apply(admin)"
   ]
  },
  {
   "cell_type": "code",
   "execution_count": 68,
   "id": "c94ad8c3",
   "metadata": {},
   "outputs": [],
   "source": [
    "data = data[[\"name\",\"year\",\"served_under\",\"position_title\", \"gender\", \"status\",\"pay_basis\", \"salary\"]]"
   ]
  },
  {
   "cell_type": "code",
   "execution_count": 69,
   "id": "4ee73b0d",
   "metadata": {},
   "outputs": [
    {
     "data": {
      "text/html": [
       "<div>\n",
       "<style scoped>\n",
       "    .dataframe tbody tr th:only-of-type {\n",
       "        vertical-align: middle;\n",
       "    }\n",
       "\n",
       "    .dataframe tbody tr th {\n",
       "        vertical-align: top;\n",
       "    }\n",
       "\n",
       "    .dataframe thead th {\n",
       "        text-align: right;\n",
       "    }\n",
       "</style>\n",
       "<table border=\"1\" class=\"dataframe\">\n",
       "  <thead>\n",
       "    <tr style=\"text-align: right;\">\n",
       "      <th></th>\n",
       "      <th>name</th>\n",
       "      <th>year</th>\n",
       "      <th>served_under</th>\n",
       "      <th>position_title</th>\n",
       "      <th>gender</th>\n",
       "      <th>status</th>\n",
       "      <th>pay_basis</th>\n",
       "      <th>salary</th>\n",
       "    </tr>\n",
       "  </thead>\n",
       "  <tbody>\n",
       "    <tr>\n",
       "      <th>0</th>\n",
       "      <td>Abedin,Huma M.</td>\n",
       "      <td>1997</td>\n",
       "      <td>Clinton Administration</td>\n",
       "      <td>OFFICE MANAGER</td>\n",
       "      <td>Female</td>\n",
       "      <td>Employee</td>\n",
       "      <td>Per Annum</td>\n",
       "      <td>27500.0</td>\n",
       "    </tr>\n",
       "    <tr>\n",
       "      <th>1</th>\n",
       "      <td>Abrams,Lori E.</td>\n",
       "      <td>1997</td>\n",
       "      <td>Clinton Administration</td>\n",
       "      <td>DEPUTY DIRECTOR, WHITE HOUSE GIFTS</td>\n",
       "      <td>Female</td>\n",
       "      <td>Employee</td>\n",
       "      <td>Per Annum</td>\n",
       "      <td>35000.0</td>\n",
       "    </tr>\n",
       "    <tr>\n",
       "      <th>2</th>\n",
       "      <td>Alcorn,Brian A.</td>\n",
       "      <td>1997</td>\n",
       "      <td>Clinton Administration</td>\n",
       "      <td>ASSISTANT DIRECTOR FOR ADVANCE</td>\n",
       "      <td>Male</td>\n",
       "      <td>Employee</td>\n",
       "      <td>Per Annum</td>\n",
       "      <td>25000.0</td>\n",
       "    </tr>\n",
       "    <tr>\n",
       "      <th>3</th>\n",
       "      <td>Allen,Jeannetta Pam</td>\n",
       "      <td>1997</td>\n",
       "      <td>Clinton Administration</td>\n",
       "      <td>STAFF ASSISTANT</td>\n",
       "      <td>Female</td>\n",
       "      <td>Employee</td>\n",
       "      <td>Per Annum</td>\n",
       "      <td>22000.0</td>\n",
       "    </tr>\n",
       "    <tr>\n",
       "      <th>4</th>\n",
       "      <td>Allison,Donna Tate</td>\n",
       "      <td>1997</td>\n",
       "      <td>Clinton Administration</td>\n",
       "      <td>WHITE HOUSE TELEPHONE OPERATOR</td>\n",
       "      <td>Female</td>\n",
       "      <td>Employee</td>\n",
       "      <td>Per Annum</td>\n",
       "      <td>27624.0</td>\n",
       "    </tr>\n",
       "    <tr>\n",
       "      <th>...</th>\n",
       "      <td>...</td>\n",
       "      <td>...</td>\n",
       "      <td>...</td>\n",
       "      <td>...</td>\n",
       "      <td>...</td>\n",
       "      <td>...</td>\n",
       "      <td>...</td>\n",
       "      <td>...</td>\n",
       "    </tr>\n",
       "    <tr>\n",
       "      <th>10595</th>\n",
       "      <td>Young,Stewart B.</td>\n",
       "      <td>2020</td>\n",
       "      <td>Trump Administration</td>\n",
       "      <td>SPECIAL ASSISTANT TO THE PRESIDENT AND DIRECTO...</td>\n",
       "      <td>Male</td>\n",
       "      <td>Employee</td>\n",
       "      <td>Per Annum</td>\n",
       "      <td>120000.0</td>\n",
       "    </tr>\n",
       "    <tr>\n",
       "      <th>10596</th>\n",
       "      <td>Zadrozny,John A.</td>\n",
       "      <td>2020</td>\n",
       "      <td>Trump Administration</td>\n",
       "      <td>DEPUTY ASSISTANT TO THE PRESIDENT AND ADVISOR ...</td>\n",
       "      <td>Male</td>\n",
       "      <td>Employee</td>\n",
       "      <td>Per Annum</td>\n",
       "      <td>158000.0</td>\n",
       "    </tr>\n",
       "    <tr>\n",
       "      <th>10597</th>\n",
       "      <td>Zakaria,Hannah</td>\n",
       "      <td>2020</td>\n",
       "      <td>Trump Administration</td>\n",
       "      <td>ASSOCIATE LOGISTICS AND OPERATIONS MANAGER</td>\n",
       "      <td>Female</td>\n",
       "      <td>Employee</td>\n",
       "      <td>Per Annum</td>\n",
       "      <td>53000.0</td>\n",
       "    </tr>\n",
       "    <tr>\n",
       "      <th>10598</th>\n",
       "      <td>Ziegler,Garrett M.</td>\n",
       "      <td>2020</td>\n",
       "      <td>Trump Administration</td>\n",
       "      <td>SENIOR POLICY ANALYST</td>\n",
       "      <td>Male</td>\n",
       "      <td>Employee</td>\n",
       "      <td>Per Annum</td>\n",
       "      <td>53000.0</td>\n",
       "    </tr>\n",
       "    <tr>\n",
       "      <th>10599</th>\n",
       "      <td>Zimmerman,Keith E.</td>\n",
       "      <td>2020</td>\n",
       "      <td>Trump Administration</td>\n",
       "      <td>ASSOCIATE DIRECTOR</td>\n",
       "      <td>Male</td>\n",
       "      <td>Employee</td>\n",
       "      <td>Per Annum</td>\n",
       "      <td>58200.0</td>\n",
       "    </tr>\n",
       "  </tbody>\n",
       "</table>\n",
       "<p>10597 rows × 8 columns</p>\n",
       "</div>"
      ],
      "text/plain": [
       "                      name  year            served_under  \\\n",
       "0           Abedin,Huma M.  1997  Clinton Administration   \n",
       "1           Abrams,Lori E.  1997  Clinton Administration   \n",
       "2          Alcorn,Brian A.  1997  Clinton Administration   \n",
       "3      Allen,Jeannetta Pam  1997  Clinton Administration   \n",
       "4       Allison,Donna Tate  1997  Clinton Administration   \n",
       "...                    ...   ...                     ...   \n",
       "10595     Young,Stewart B.  2020    Trump Administration   \n",
       "10596     Zadrozny,John A.  2020    Trump Administration   \n",
       "10597       Zakaria,Hannah  2020    Trump Administration   \n",
       "10598   Ziegler,Garrett M.  2020    Trump Administration   \n",
       "10599   Zimmerman,Keith E.  2020    Trump Administration   \n",
       "\n",
       "                                          position_title  gender    status  \\\n",
       "0                                         OFFICE MANAGER  Female  Employee   \n",
       "1                     DEPUTY DIRECTOR, WHITE HOUSE GIFTS  Female  Employee   \n",
       "2                         ASSISTANT DIRECTOR FOR ADVANCE    Male  Employee   \n",
       "3                                        STAFF ASSISTANT  Female  Employee   \n",
       "4                         WHITE HOUSE TELEPHONE OPERATOR  Female  Employee   \n",
       "...                                                  ...     ...       ...   \n",
       "10595  SPECIAL ASSISTANT TO THE PRESIDENT AND DIRECTO...    Male  Employee   \n",
       "10596  DEPUTY ASSISTANT TO THE PRESIDENT AND ADVISOR ...    Male  Employee   \n",
       "10597         ASSOCIATE LOGISTICS AND OPERATIONS MANAGER  Female  Employee   \n",
       "10598                              SENIOR POLICY ANALYST    Male  Employee   \n",
       "10599                                 ASSOCIATE DIRECTOR    Male  Employee   \n",
       "\n",
       "       pay_basis    salary  \n",
       "0      Per Annum   27500.0  \n",
       "1      Per Annum   35000.0  \n",
       "2      Per Annum   25000.0  \n",
       "3      Per Annum   22000.0  \n",
       "4      Per Annum   27624.0  \n",
       "...          ...       ...  \n",
       "10595  Per Annum  120000.0  \n",
       "10596  Per Annum  158000.0  \n",
       "10597  Per Annum   53000.0  \n",
       "10598  Per Annum   53000.0  \n",
       "10599  Per Annum   58200.0  \n",
       "\n",
       "[10597 rows x 8 columns]"
      ]
     },
     "execution_count": 69,
     "metadata": {},
     "output_type": "execute_result"
    }
   ],
   "source": [
    "data"
   ]
  },
  {
   "cell_type": "markdown",
   "id": "1d9fff70",
   "metadata": {},
   "source": [
    "# Export your cleaned data to mysql"
   ]
  },
  {
   "cell_type": "code",
   "execution_count": 74,
   "id": "f761f4ec",
   "metadata": {},
   "outputs": [],
   "source": [
    "connection_string = 'mysql+pymysql://root:' + password + '@localhost/mid_bootcamp_project'\n",
    "engine = create_engine(connection_string)"
   ]
  },
  {
   "cell_type": "code",
   "execution_count": 75,
   "id": "7e412d07",
   "metadata": {},
   "outputs": [
    {
     "data": {
      "text/plain": [
       "10597"
      ]
     },
     "execution_count": 75,
     "metadata": {},
     "output_type": "execute_result"
    }
   ],
   "source": [
    "data.to_sql(name='whitehouse', con=engine, schema=None, if_exists= 'replace', index=False, index_label=None,\n",
    "          chunksize=None, dtype=None, method=None)"
   ]
  },
  {
   "cell_type": "code",
   "execution_count": 78,
   "id": "57202c01",
   "metadata": {},
   "outputs": [
    {
     "data": {
      "text/html": [
       "<div>\n",
       "<style scoped>\n",
       "    .dataframe tbody tr th:only-of-type {\n",
       "        vertical-align: middle;\n",
       "    }\n",
       "\n",
       "    .dataframe tbody tr th {\n",
       "        vertical-align: top;\n",
       "    }\n",
       "\n",
       "    .dataframe thead th {\n",
       "        text-align: right;\n",
       "    }\n",
       "</style>\n",
       "<table border=\"1\" class=\"dataframe\">\n",
       "  <thead>\n",
       "    <tr style=\"text-align: right;\">\n",
       "      <th></th>\n",
       "      <th>name</th>\n",
       "      <th>year</th>\n",
       "      <th>served_under</th>\n",
       "      <th>position_title</th>\n",
       "      <th>gender</th>\n",
       "      <th>status</th>\n",
       "      <th>pay_basis</th>\n",
       "      <th>salary</th>\n",
       "    </tr>\n",
       "  </thead>\n",
       "  <tbody>\n",
       "    <tr>\n",
       "      <th>0</th>\n",
       "      <td>Abedin,Huma M.</td>\n",
       "      <td>1997</td>\n",
       "      <td>Clinton Administration</td>\n",
       "      <td>OFFICE MANAGER</td>\n",
       "      <td>Female</td>\n",
       "      <td>Employee</td>\n",
       "      <td>Per Annum</td>\n",
       "      <td>27500.0</td>\n",
       "    </tr>\n",
       "    <tr>\n",
       "      <th>1</th>\n",
       "      <td>Abrams,Lori E.</td>\n",
       "      <td>1997</td>\n",
       "      <td>Clinton Administration</td>\n",
       "      <td>DEPUTY DIRECTOR, WHITE HOUSE GIFTS</td>\n",
       "      <td>Female</td>\n",
       "      <td>Employee</td>\n",
       "      <td>Per Annum</td>\n",
       "      <td>35000.0</td>\n",
       "    </tr>\n",
       "    <tr>\n",
       "      <th>2</th>\n",
       "      <td>Alcorn,Brian A.</td>\n",
       "      <td>1997</td>\n",
       "      <td>Clinton Administration</td>\n",
       "      <td>ASSISTANT DIRECTOR FOR ADVANCE</td>\n",
       "      <td>Male</td>\n",
       "      <td>Employee</td>\n",
       "      <td>Per Annum</td>\n",
       "      <td>25000.0</td>\n",
       "    </tr>\n",
       "    <tr>\n",
       "      <th>3</th>\n",
       "      <td>Allen,Jeannetta Pam</td>\n",
       "      <td>1997</td>\n",
       "      <td>Clinton Administration</td>\n",
       "      <td>STAFF ASSISTANT</td>\n",
       "      <td>Female</td>\n",
       "      <td>Employee</td>\n",
       "      <td>Per Annum</td>\n",
       "      <td>22000.0</td>\n",
       "    </tr>\n",
       "    <tr>\n",
       "      <th>4</th>\n",
       "      <td>Allison,Donna Tate</td>\n",
       "      <td>1997</td>\n",
       "      <td>Clinton Administration</td>\n",
       "      <td>WHITE HOUSE TELEPHONE OPERATOR</td>\n",
       "      <td>Female</td>\n",
       "      <td>Employee</td>\n",
       "      <td>Per Annum</td>\n",
       "      <td>27624.0</td>\n",
       "    </tr>\n",
       "    <tr>\n",
       "      <th>...</th>\n",
       "      <td>...</td>\n",
       "      <td>...</td>\n",
       "      <td>...</td>\n",
       "      <td>...</td>\n",
       "      <td>...</td>\n",
       "      <td>...</td>\n",
       "      <td>...</td>\n",
       "      <td>...</td>\n",
       "    </tr>\n",
       "    <tr>\n",
       "      <th>10592</th>\n",
       "      <td>Young,Stewart B.</td>\n",
       "      <td>2020</td>\n",
       "      <td>Trump Administration</td>\n",
       "      <td>SPECIAL ASSISTANT TO THE PRESIDENT AND DIRECTO...</td>\n",
       "      <td>Male</td>\n",
       "      <td>Employee</td>\n",
       "      <td>Per Annum</td>\n",
       "      <td>120000.0</td>\n",
       "    </tr>\n",
       "    <tr>\n",
       "      <th>10593</th>\n",
       "      <td>Zadrozny,John A.</td>\n",
       "      <td>2020</td>\n",
       "      <td>Trump Administration</td>\n",
       "      <td>DEPUTY ASSISTANT TO THE PRESIDENT AND ADVISOR ...</td>\n",
       "      <td>Male</td>\n",
       "      <td>Employee</td>\n",
       "      <td>Per Annum</td>\n",
       "      <td>158000.0</td>\n",
       "    </tr>\n",
       "    <tr>\n",
       "      <th>10594</th>\n",
       "      <td>Zakaria,Hannah</td>\n",
       "      <td>2020</td>\n",
       "      <td>Trump Administration</td>\n",
       "      <td>ASSOCIATE LOGISTICS AND OPERATIONS MANAGER</td>\n",
       "      <td>Female</td>\n",
       "      <td>Employee</td>\n",
       "      <td>Per Annum</td>\n",
       "      <td>53000.0</td>\n",
       "    </tr>\n",
       "    <tr>\n",
       "      <th>10595</th>\n",
       "      <td>Ziegler,Garrett M.</td>\n",
       "      <td>2020</td>\n",
       "      <td>Trump Administration</td>\n",
       "      <td>SENIOR POLICY ANALYST</td>\n",
       "      <td>Male</td>\n",
       "      <td>Employee</td>\n",
       "      <td>Per Annum</td>\n",
       "      <td>53000.0</td>\n",
       "    </tr>\n",
       "    <tr>\n",
       "      <th>10596</th>\n",
       "      <td>Zimmerman,Keith E.</td>\n",
       "      <td>2020</td>\n",
       "      <td>Trump Administration</td>\n",
       "      <td>ASSOCIATE DIRECTOR</td>\n",
       "      <td>Male</td>\n",
       "      <td>Employee</td>\n",
       "      <td>Per Annum</td>\n",
       "      <td>58200.0</td>\n",
       "    </tr>\n",
       "  </tbody>\n",
       "</table>\n",
       "<p>10597 rows × 8 columns</p>\n",
       "</div>"
      ],
      "text/plain": [
       "                      name  year            served_under  \\\n",
       "0           Abedin,Huma M.  1997  Clinton Administration   \n",
       "1           Abrams,Lori E.  1997  Clinton Administration   \n",
       "2          Alcorn,Brian A.  1997  Clinton Administration   \n",
       "3      Allen,Jeannetta Pam  1997  Clinton Administration   \n",
       "4       Allison,Donna Tate  1997  Clinton Administration   \n",
       "...                    ...   ...                     ...   \n",
       "10592     Young,Stewart B.  2020    Trump Administration   \n",
       "10593     Zadrozny,John A.  2020    Trump Administration   \n",
       "10594       Zakaria,Hannah  2020    Trump Administration   \n",
       "10595   Ziegler,Garrett M.  2020    Trump Administration   \n",
       "10596   Zimmerman,Keith E.  2020    Trump Administration   \n",
       "\n",
       "                                          position_title  gender    status  \\\n",
       "0                                         OFFICE MANAGER  Female  Employee   \n",
       "1                     DEPUTY DIRECTOR, WHITE HOUSE GIFTS  Female  Employee   \n",
       "2                         ASSISTANT DIRECTOR FOR ADVANCE    Male  Employee   \n",
       "3                                        STAFF ASSISTANT  Female  Employee   \n",
       "4                         WHITE HOUSE TELEPHONE OPERATOR  Female  Employee   \n",
       "...                                                  ...     ...       ...   \n",
       "10592  SPECIAL ASSISTANT TO THE PRESIDENT AND DIRECTO...    Male  Employee   \n",
       "10593  DEPUTY ASSISTANT TO THE PRESIDENT AND ADVISOR ...    Male  Employee   \n",
       "10594         ASSOCIATE LOGISTICS AND OPERATIONS MANAGER  Female  Employee   \n",
       "10595                              SENIOR POLICY ANALYST    Male  Employee   \n",
       "10596                                 ASSOCIATE DIRECTOR    Male  Employee   \n",
       "\n",
       "       pay_basis    salary  \n",
       "0      Per Annum   27500.0  \n",
       "1      Per Annum   35000.0  \n",
       "2      Per Annum   25000.0  \n",
       "3      Per Annum   22000.0  \n",
       "4      Per Annum   27624.0  \n",
       "...          ...       ...  \n",
       "10592  Per Annum  120000.0  \n",
       "10593  Per Annum  158000.0  \n",
       "10594  Per Annum   53000.0  \n",
       "10595  Per Annum   53000.0  \n",
       "10596  Per Annum   58200.0  \n",
       "\n",
       "[10597 rows x 8 columns]"
      ]
     },
     "execution_count": 78,
     "metadata": {},
     "output_type": "execute_result"
    }
   ],
   "source": [
    "query = \"\"\"SELECT * FROM whitehouse;\"\"\"\n",
    "data = pd.read_sql_query(query, engine)\n",
    "data"
   ]
  },
  {
   "cell_type": "code",
   "execution_count": null,
   "id": "f5ae628b",
   "metadata": {},
   "outputs": [],
   "source": [
    "query = \"\"\"USE mid_bootcamp_project;\"\"\"\n",
    "pd.read_sql_query(query, engine.execute)"
   ]
  },
  {
   "cell_type": "markdown",
   "id": "62b438b1",
   "metadata": {},
   "source": [
    "# Analysis"
   ]
  },
  {
   "cell_type": "markdown",
   "id": "73d25b46",
   "metadata": {},
   "source": [
    "# Staff who worked through all administrations"
   ]
  },
  {
   "cell_type": "code",
   "execution_count": null,
   "id": "221eb2b9",
   "metadata": {},
   "outputs": [],
   "source": [
    "data.name.unique()"
   ]
  },
  {
   "cell_type": "code",
   "execution_count": null,
   "id": "2ea5aebd",
   "metadata": {},
   "outputs": [],
   "source": [
    "len(data[data[\"name\"]==\"Zakaria,Hannah\"][\"served_under\"].unique())"
   ]
  },
  {
   "cell_type": "code",
   "execution_count": null,
   "id": "bb3ce3cd",
   "metadata": {},
   "outputs": [],
   "source": [
    "served_all4admin = []\n",
    "for x in data.name.unique():\n",
    "    president = len(data[data[\"name\"]==x][\"served_under\"].unique())\n",
    "    if president ==4:\n",
    "        served_all4admin.append(x)\n",
    "        \n",
    "        \n",
    "print(served_all4admin)\n",
    "len(served_all4admin)\n",
    "        \n",
    "\n",
    "    \n",
    "    "
   ]
  },
  {
   "cell_type": "code",
   "execution_count": null,
   "id": "2df9da6b",
   "metadata": {},
   "outputs": [],
   "source": [
    "served_all4admin = pd.DataFrame(served_all4admin)\n",
    "served_all4admin.head(1)"
   ]
  },
  {
   "cell_type": "code",
   "execution_count": null,
   "id": "7ca93950",
   "metadata": {},
   "outputs": [],
   "source": [
    "served_all4admin = served_all4admin.rename(columns={0:\"served_in_all4admins\"})\n",
    "served_all4admin"
   ]
  },
  {
   "cell_type": "markdown",
   "id": "b9113bdf",
   "metadata": {},
   "source": [
    "# staff with the highest Salary is Male"
   ]
  },
  {
   "cell_type": "code",
   "execution_count": null,
   "id": "af0a1f63",
   "metadata": {},
   "outputs": [],
   "source": [
    "data['salary'].max()"
   ]
  },
  {
   "cell_type": "code",
   "execution_count": null,
   "id": "0a307abf",
   "metadata": {},
   "outputs": [],
   "source": [
    "data[data['salary']== data['salary'].max()]"
   ]
  },
  {
   "cell_type": "markdown",
   "id": "88a6b99d",
   "metadata": {},
   "source": [
    "# 95Th Percentile(TOp  Whitehouse Staff Salaries)"
   ]
  },
  {
   "cell_type": "code",
   "execution_count": 99,
   "id": "c13f705a",
   "metadata": {},
   "outputs": [
    {
     "data": {
      "text/html": [
       "<div>\n",
       "<style scoped>\n",
       "    .dataframe tbody tr th:only-of-type {\n",
       "        vertical-align: middle;\n",
       "    }\n",
       "\n",
       "    .dataframe tbody tr th {\n",
       "        vertical-align: top;\n",
       "    }\n",
       "\n",
       "    .dataframe thead th {\n",
       "        text-align: right;\n",
       "    }\n",
       "</style>\n",
       "<table border=\"1\" class=\"dataframe\">\n",
       "  <thead>\n",
       "    <tr style=\"text-align: right;\">\n",
       "      <th></th>\n",
       "      <th>name</th>\n",
       "      <th>year</th>\n",
       "      <th>served_under</th>\n",
       "      <th>position_title</th>\n",
       "      <th>gender</th>\n",
       "      <th>status</th>\n",
       "      <th>pay_basis</th>\n",
       "      <th>salary</th>\n",
       "    </tr>\n",
       "  </thead>\n",
       "  <tbody>\n",
       "    <tr>\n",
       "      <th>2426</th>\n",
       "      <td>Lawlor,Bruce M.</td>\n",
       "      <td>2002</td>\n",
       "      <td>Bush administration</td>\n",
       "      <td>SENIOR DIRECTOR PROTECTION AND PREVENTION</td>\n",
       "      <td>Male</td>\n",
       "      <td>Detailee</td>\n",
       "      <td>Per Annum</td>\n",
       "      <td>183372.0</td>\n",
       "    </tr>\n",
       "    <tr>\n",
       "      <th>2689</th>\n",
       "      <td>Bernard,Kenneth</td>\n",
       "      <td>2003</td>\n",
       "      <td>Bush administration</td>\n",
       "      <td>SPECIAL ASSISTANT TO THE PRESIDENT AND SENIOR ...</td>\n",
       "      <td>Male</td>\n",
       "      <td>Detailee</td>\n",
       "      <td>Per Annum</td>\n",
       "      <td>174000.0</td>\n",
       "    </tr>\n",
       "    <tr>\n",
       "      <th>3978</th>\n",
       "      <td>Bartlett,Daniel Joseph</td>\n",
       "      <td>2006</td>\n",
       "      <td>Bush administration</td>\n",
       "      <td>COUNSELOR TO THE PRESIDENT</td>\n",
       "      <td>Male</td>\n",
       "      <td>Employee</td>\n",
       "      <td>Per Annum</td>\n",
       "      <td>165200.0</td>\n",
       "    </tr>\n",
       "    <tr>\n",
       "      <th>3993</th>\n",
       "      <td>Bolten,Joshua B.</td>\n",
       "      <td>2006</td>\n",
       "      <td>Bush administration</td>\n",
       "      <td>ASSISTANT TO THE PRESIDENT AND CHIEF OF STAFF</td>\n",
       "      <td>Male</td>\n",
       "      <td>Employee</td>\n",
       "      <td>Per Annum</td>\n",
       "      <td>165200.0</td>\n",
       "    </tr>\n",
       "    <tr>\n",
       "      <th>4040</th>\n",
       "      <td>Crouch,Jack D.,II</td>\n",
       "      <td>2006</td>\n",
       "      <td>Bush administration</td>\n",
       "      <td>ASSISTANT TO THE PRESIDENT AND DEPUTY NATIONAL...</td>\n",
       "      <td>Male</td>\n",
       "      <td>Employee</td>\n",
       "      <td>Per Annum</td>\n",
       "      <td>165200.0</td>\n",
       "    </tr>\n",
       "    <tr>\n",
       "      <th>...</th>\n",
       "      <td>...</td>\n",
       "      <td>...</td>\n",
       "      <td>...</td>\n",
       "      <td>...</td>\n",
       "      <td>...</td>\n",
       "      <td>...</td>\n",
       "      <td>...</td>\n",
       "      <td>...</td>\n",
       "    </tr>\n",
       "    <tr>\n",
       "      <th>10538</th>\n",
       "      <td>Smith,Ja'Ron K.</td>\n",
       "      <td>2020</td>\n",
       "      <td>Trump Administration</td>\n",
       "      <td>DEPUTY ASSISTANT TO THE PRESIDENT AND DEPUTY D...</td>\n",
       "      <td>Male</td>\n",
       "      <td>Employee</td>\n",
       "      <td>Per Annum</td>\n",
       "      <td>168000.0</td>\n",
       "    </tr>\n",
       "    <tr>\n",
       "      <th>10545</th>\n",
       "      <td>Stone,Roger L.</td>\n",
       "      <td>2020</td>\n",
       "      <td>Trump Administration</td>\n",
       "      <td>DEPUTY ASSISTANT TO THE PRESIDENT AND DIRECTOR...</td>\n",
       "      <td>Male</td>\n",
       "      <td>Employee</td>\n",
       "      <td>Per Annum</td>\n",
       "      <td>168000.0</td>\n",
       "    </tr>\n",
       "    <tr>\n",
       "      <th>10549</th>\n",
       "      <td>Swonger,Amy H.</td>\n",
       "      <td>2020</td>\n",
       "      <td>Trump Administration</td>\n",
       "      <td>ASSISTANT TO THE PRESIDENT AND ACTING DIRECTOR...</td>\n",
       "      <td>Female</td>\n",
       "      <td>Employee</td>\n",
       "      <td>Per Annum</td>\n",
       "      <td>183000.0</td>\n",
       "    </tr>\n",
       "    <tr>\n",
       "      <th>10559</th>\n",
       "      <td>Todd,Kathryn L.</td>\n",
       "      <td>2020</td>\n",
       "      <td>Trump Administration</td>\n",
       "      <td>DEPUTY COUNSEL TO THE PRESIDENT</td>\n",
       "      <td>Female</td>\n",
       "      <td>Employee</td>\n",
       "      <td>Per Annum</td>\n",
       "      <td>168000.0</td>\n",
       "    </tr>\n",
       "    <tr>\n",
       "      <th>10586</th>\n",
       "      <td>Williamson,Benjamin D.</td>\n",
       "      <td>2020</td>\n",
       "      <td>Trump Administration</td>\n",
       "      <td>DEPUTY ASSISTANT TO THE PRESIDENT AND SENIOR A...</td>\n",
       "      <td>Male</td>\n",
       "      <td>Employee</td>\n",
       "      <td>Per Annum</td>\n",
       "      <td>168000.0</td>\n",
       "    </tr>\n",
       "  </tbody>\n",
       "</table>\n",
       "<p>465 rows × 8 columns</p>\n",
       "</div>"
      ],
      "text/plain": [
       "                         name  year          served_under  \\\n",
       "2426          Lawlor,Bruce M.  2002   Bush administration   \n",
       "2689          Bernard,Kenneth  2003   Bush administration   \n",
       "3978   Bartlett,Daniel Joseph  2006   Bush administration   \n",
       "3993         Bolten,Joshua B.  2006   Bush administration   \n",
       "4040        Crouch,Jack D.,II  2006   Bush administration   \n",
       "...                       ...   ...                   ...   \n",
       "10538         Smith,Ja'Ron K.  2020  Trump Administration   \n",
       "10545          Stone,Roger L.  2020  Trump Administration   \n",
       "10549          Swonger,Amy H.  2020  Trump Administration   \n",
       "10559         Todd,Kathryn L.  2020  Trump Administration   \n",
       "10586  Williamson,Benjamin D.  2020  Trump Administration   \n",
       "\n",
       "                                          position_title  gender    status  \\\n",
       "2426           SENIOR DIRECTOR PROTECTION AND PREVENTION    Male  Detailee   \n",
       "2689   SPECIAL ASSISTANT TO THE PRESIDENT AND SENIOR ...    Male  Detailee   \n",
       "3978                          COUNSELOR TO THE PRESIDENT    Male  Employee   \n",
       "3993       ASSISTANT TO THE PRESIDENT AND CHIEF OF STAFF    Male  Employee   \n",
       "4040   ASSISTANT TO THE PRESIDENT AND DEPUTY NATIONAL...    Male  Employee   \n",
       "...                                                  ...     ...       ...   \n",
       "10538  DEPUTY ASSISTANT TO THE PRESIDENT AND DEPUTY D...    Male  Employee   \n",
       "10545  DEPUTY ASSISTANT TO THE PRESIDENT AND DIRECTOR...    Male  Employee   \n",
       "10549  ASSISTANT TO THE PRESIDENT AND ACTING DIRECTOR...  Female  Employee   \n",
       "10559                    DEPUTY COUNSEL TO THE PRESIDENT  Female  Employee   \n",
       "10586  DEPUTY ASSISTANT TO THE PRESIDENT AND SENIOR A...    Male  Employee   \n",
       "\n",
       "       pay_basis    salary  \n",
       "2426   Per Annum  183372.0  \n",
       "2689   Per Annum  174000.0  \n",
       "3978   Per Annum  165200.0  \n",
       "3993   Per Annum  165200.0  \n",
       "4040   Per Annum  165200.0  \n",
       "...          ...       ...  \n",
       "10538  Per Annum  168000.0  \n",
       "10545  Per Annum  168000.0  \n",
       "10549  Per Annum  183000.0  \n",
       "10559  Per Annum  168000.0  \n",
       "10586  Per Annum  168000.0  \n",
       "\n",
       "[465 rows x 8 columns]"
      ]
     },
     "metadata": {},
     "output_type": "display_data"
    },
    {
     "data": {
      "text/plain": [
       "Male      313\n",
       "Female    152\n",
       "Name: gender, dtype: int64"
      ]
     },
     "execution_count": 99,
     "metadata": {},
     "output_type": "execute_result"
    }
   ],
   "source": [
    "percentile_95th =data[data[\"salary\"] >np.percentile(data['salary'],95.5)]\n",
    "display(percentile_95th)\n",
    "percentile_95th[\"gender\"].value_counts()\n"
   ]
  },
  {
   "cell_type": "code",
   "execution_count": 100,
   "id": "1a0d1431",
   "metadata": {},
   "outputs": [
    {
     "data": {
      "image/png": "[encoded data removed]",
      "text/plain": [
       "<Figure size 640x480 with 1 Axes>"
      ]
     },
     "metadata": {},
     "output_type": "display_data"
    }
   ],
   "source": [
    "sns.barplot(x = 'gender', y=\"salary\", data=percentile_95th)\n",
    "plt.show()"
   ]
  },
  {
   "cell_type": "code",
   "execution_count": 86,
   "id": "8e7bb03c",
   "metadata": {},
   "outputs": [
    {
     "data": {
      "text/plain": [
       "101565.0"
      ]
     },
     "execution_count": 86,
     "metadata": {},
     "output_type": "execute_result"
    }
   ],
   "source": [
    "np.percentile(data['salary'],75)"
   ]
  },
  {
   "cell_type": "code",
   "execution_count": 84,
   "id": "5e51d2bf",
   "metadata": {},
   "outputs": [
    {
     "ename": "InvalidIndexError",
     "evalue": "(0         27500.0\n1         35000.0\n2         25000.0\n3         22000.0\n4         27624.0\n           ...   \n10592    120000.0\n10593    158000.0\n10594     53000.0\n10595     53000.0\n10596     58200.0\nName: salary, Length: 10597, dtype: float64, 75)",
     "output_type": "error",
     "traceback": [
      "\u001b[1;31m---------------------------------------------------------------------------\u001b[0m",
      "\u001b[1;31mTypeError\u001b[0m                                 Traceback (most recent call last)",
      "\u001b[1;32m~\\anaconda3\\lib\\site-packages\\pandas\\core\\indexes\\base.py\u001b[0m in \u001b[0;36mget_loc\u001b[1;34m(self, key, method, tolerance)\u001b[0m\n\u001b[0;32m   3628\u001b[0m             \u001b[1;32mtry\u001b[0m\u001b[1;33m:\u001b[0m\u001b[1;33m\u001b[0m\u001b[1;33m\u001b[0m\u001b[0m\n\u001b[1;32m-> 3629\u001b[1;33m                 \u001b[1;32mreturn\u001b[0m \u001b[0mself\u001b[0m\u001b[1;33m.\u001b[0m\u001b[0m_engine\u001b[0m\u001b[1;33m.\u001b[0m\u001b[0mget_loc\u001b[0m\u001b[1;33m(\u001b[0m\u001b[0mcasted_key\u001b[0m\u001b[1;33m)\u001b[0m\u001b[1;33m\u001b[0m\u001b[1;33m\u001b[0m\u001b[0m\n\u001b[0m\u001b[0;32m   3630\u001b[0m             \u001b[1;32mexcept\u001b[0m \u001b[0mKeyError\u001b[0m \u001b[1;32mas\u001b[0m \u001b[0merr\u001b[0m\u001b[1;33m:\u001b[0m\u001b[1;33m\u001b[0m\u001b[1;33m\u001b[0m\u001b[0m\n",
      "\u001b[1;32m~\\anaconda3\\lib\\site-packages\\pandas\\_libs\\index.pyx\u001b[0m in \u001b[0;36mpandas._libs.index.IndexEngine.get_loc\u001b[1;34m()\u001b[0m\n",
      "\u001b[1;32m~\\anaconda3\\lib\\site-packages\\pandas\\_libs\\index.pyx\u001b[0m in \u001b[0;36mpandas._libs.index.IndexEngine.get_loc\u001b[1;34m()\u001b[0m\n",
      "\u001b[1;31mTypeError\u001b[0m: '(0         27500.0\n1         35000.0\n2         25000.0\n3         22000.0\n4         27624.0\n           ...   \n10592    120000.0\n10593    158000.0\n10594     53000.0\n10595     53000.0\n10596     58200.0\nName: salary, Length: 10597, dtype: float64, 75)' is an invalid key",
      "\nDuring handling of the above exception, another exception occurred:\n",
      "\u001b[1;31mInvalidIndexError\u001b[0m                         Traceback (most recent call last)",
      "\u001b[1;32m~\\AppData\\Local\\Temp\\ipykernel_13992\\895568889.py\u001b[0m in \u001b[0;36m<module>\u001b[1;34m\u001b[0m\n\u001b[1;32m----> 1\u001b[1;33m \u001b[0mnp\u001b[0m\u001b[1;33m.\u001b[0m\u001b[0mpercentile\u001b[0m\u001b[1;33m(\u001b[0m\u001b[0mdata\u001b[0m\u001b[1;33m[\u001b[0m\u001b[0mdata\u001b[0m\u001b[1;33m[\u001b[0m\u001b[1;34m'salary'\u001b[0m\u001b[1;33m]\u001b[0m\u001b[1;33m,\u001b[0m\u001b[1;36m75\u001b[0m\u001b[1;33m]\u001b[0m\u001b[1;33m)\u001b[0m\u001b[1;33m\u001b[0m\u001b[1;33m\u001b[0m\u001b[0m\n\u001b[0m",
      "\u001b[1;32m~\\anaconda3\\lib\\site-packages\\pandas\\core\\frame.py\u001b[0m in \u001b[0;36m__getitem__\u001b[1;34m(self, key)\u001b[0m\n\u001b[0;32m   3503\u001b[0m             \u001b[1;32mif\u001b[0m \u001b[0mself\u001b[0m\u001b[1;33m.\u001b[0m\u001b[0mcolumns\u001b[0m\u001b[1;33m.\u001b[0m\u001b[0mnlevels\u001b[0m \u001b[1;33m>\u001b[0m \u001b[1;36m1\u001b[0m\u001b[1;33m:\u001b[0m\u001b[1;33m\u001b[0m\u001b[1;33m\u001b[0m\u001b[0m\n\u001b[0;32m   3504\u001b[0m                 \u001b[1;32mreturn\u001b[0m \u001b[0mself\u001b[0m\u001b[1;33m.\u001b[0m\u001b[0m_getitem_multilevel\u001b[0m\u001b[1;33m(\u001b[0m\u001b[0mkey\u001b[0m\u001b[1;33m)\u001b[0m\u001b[1;33m\u001b[0m\u001b[1;33m\u001b[0m\u001b[0m\n\u001b[1;32m-> 3505\u001b[1;33m             \u001b[0mindexer\u001b[0m \u001b[1;33m=\u001b[0m \u001b[0mself\u001b[0m\u001b[1;33m.\u001b[0m\u001b[0mcolumns\u001b[0m\u001b[1;33m.\u001b[0m\u001b[0mget_loc\u001b[0m\u001b[1;33m(\u001b[0m\u001b[0mkey\u001b[0m\u001b[1;33m)\u001b[0m\u001b[1;33m\u001b[0m\u001b[1;33m\u001b[0m\u001b[0m\n\u001b[0m\u001b[0;32m   3506\u001b[0m             \u001b[1;32mif\u001b[0m \u001b[0mis_integer\u001b[0m\u001b[1;33m(\u001b[0m\u001b[0mindexer\u001b[0m\u001b[1;33m)\u001b[0m\u001b[1;33m:\u001b[0m\u001b[1;33m\u001b[0m\u001b[1;33m\u001b[0m\u001b[0m\n\u001b[0;32m   3507\u001b[0m                 \u001b[0mindexer\u001b[0m \u001b[1;33m=\u001b[0m \u001b[1;33m[\u001b[0m\u001b[0mindexer\u001b[0m\u001b[1;33m]\u001b[0m\u001b[1;33m\u001b[0m\u001b[1;33m\u001b[0m\u001b[0m\n",
      "\u001b[1;32m~\\anaconda3\\lib\\site-packages\\pandas\\core\\indexes\\base.py\u001b[0m in \u001b[0;36mget_loc\u001b[1;34m(self, key, method, tolerance)\u001b[0m\n\u001b[0;32m   3634\u001b[0m                 \u001b[1;31m#  InvalidIndexError. Otherwise we fall through and re-raise\u001b[0m\u001b[1;33m\u001b[0m\u001b[1;33m\u001b[0m\u001b[0m\n\u001b[0;32m   3635\u001b[0m                 \u001b[1;31m#  the TypeError.\u001b[0m\u001b[1;33m\u001b[0m\u001b[1;33m\u001b[0m\u001b[0m\n\u001b[1;32m-> 3636\u001b[1;33m                 \u001b[0mself\u001b[0m\u001b[1;33m.\u001b[0m\u001b[0m_check_indexing_error\u001b[0m\u001b[1;33m(\u001b[0m\u001b[0mkey\u001b[0m\u001b[1;33m)\u001b[0m\u001b[1;33m\u001b[0m\u001b[1;33m\u001b[0m\u001b[0m\n\u001b[0m\u001b[0;32m   3637\u001b[0m                 \u001b[1;32mraise\u001b[0m\u001b[1;33m\u001b[0m\u001b[1;33m\u001b[0m\u001b[0m\n\u001b[0;32m   3638\u001b[0m \u001b[1;33m\u001b[0m\u001b[0m\n",
      "\u001b[1;32m~\\anaconda3\\lib\\site-packages\\pandas\\core\\indexes\\base.py\u001b[0m in \u001b[0;36m_check_indexing_error\u001b[1;34m(self, key)\u001b[0m\n\u001b[0;32m   5649\u001b[0m             \u001b[1;31m# if key is not a scalar, directly raise an error (the code below\u001b[0m\u001b[1;33m\u001b[0m\u001b[1;33m\u001b[0m\u001b[0m\n\u001b[0;32m   5650\u001b[0m             \u001b[1;31m# would convert to numpy arrays and raise later any way) - GH29926\u001b[0m\u001b[1;33m\u001b[0m\u001b[1;33m\u001b[0m\u001b[0m\n\u001b[1;32m-> 5651\u001b[1;33m             \u001b[1;32mraise\u001b[0m \u001b[0mInvalidIndexError\u001b[0m\u001b[1;33m(\u001b[0m\u001b[0mkey\u001b[0m\u001b[1;33m)\u001b[0m\u001b[1;33m\u001b[0m\u001b[1;33m\u001b[0m\u001b[0m\n\u001b[0m\u001b[0;32m   5652\u001b[0m \u001b[1;33m\u001b[0m\u001b[0m\n\u001b[0;32m   5653\u001b[0m     \u001b[1;33m@\u001b[0m\u001b[0mcache_readonly\u001b[0m\u001b[1;33m\u001b[0m\u001b[1;33m\u001b[0m\u001b[0m\n",
      "\u001b[1;31mInvalidIndexError\u001b[0m: (0         27500.0\n1         35000.0\n2         25000.0\n3         22000.0\n4         27624.0\n           ...   \n10592    120000.0\n10593    158000.0\n10594     53000.0\n10595     53000.0\n10596     58200.0\nName: salary, Length: 10597, dtype: float64, 75)"
     ]
    }
   ],
   "source": [
    " np.percentile(data[data['salary'],75])\n"
   ]
  },
  {
   "cell_type": "markdown",
   "id": "7823a4d0",
   "metadata": {},
   "source": [
    "# Compare Salaries by gender"
   ]
  },
  {
   "cell_type": "markdown",
   "id": "3ebec6c7",
   "metadata": {},
   "source": [
    "### Females number more than Males yet they earn lesser total salary as a category"
   ]
  },
  {
   "cell_type": "code",
   "execution_count": null,
   "id": "025f7352",
   "metadata": {},
   "outputs": [],
   "source": [
    "display(data['gender'].value_counts())\n",
    "salayr_by_gender = display(data.groupby(['gender'])['salary'].agg(sum))"
   ]
  },
  {
   "cell_type": "code",
   "execution_count": null,
   "id": "5ff4733c",
   "metadata": {},
   "outputs": [],
   "source": [
    "salayr_by_gender = display(data.groupby(['gender'])['salary'].agg(np.mean))\n",
    "salayr_by_gender "
   ]
  },
  {
   "cell_type": "code",
   "execution_count": null,
   "id": "a43ea005",
   "metadata": {},
   "outputs": [],
   "source": [
    "sns.barplot(x = 'gender', y=\"salary\", data=data)\n",
    "plt.show()"
   ]
  },
  {
   "cell_type": "code",
   "execution_count": null,
   "id": "0dc56fc6",
   "metadata": {},
   "outputs": [],
   "source": [
    "sns.boxplot(x = 'gender',y='salary', data=data)\n",
    "plt.show()"
   ]
  },
  {
   "cell_type": "markdown",
   "id": "ce1e9053",
   "metadata": {},
   "source": [
    "## Distribution of Data"
   ]
  },
  {
   "cell_type": "code",
   "execution_count": null,
   "id": "0ce0eab0",
   "metadata": {},
   "outputs": [],
   "source": [
    "sns.distplot(data['salary'], bins=20)\n",
    "plt.show()"
   ]
  },
  {
   "cell_type": "code",
   "execution_count": null,
   "id": "a87c5bc3",
   "metadata": {},
   "outputs": [],
   "source": [
    "sns.boxplot(x=data['salary'])\n",
    "plt.show()"
   ]
  },
  {
   "cell_type": "markdown",
   "id": "9200d964",
   "metadata": {},
   "source": [
    "# Average salary in the Trump Administration by gender"
   ]
  },
  {
   "cell_type": "code",
   "execution_count": null,
   "id": "4c8ac902",
   "metadata": {},
   "outputs": [],
   "source": [
    "trump_data = data.loc[data['served_under'] == 'Trump Administration']\n"
   ]
  },
  {
   "cell_type": "code",
   "execution_count": null,
   "id": "99d59603",
   "metadata": {},
   "outputs": [],
   "source": [
    "TrumpAdmin_salayry_by_gender =display(trump_data.groupby(['gender'])['salary'].agg(np.mean))"
   ]
  },
  {
   "cell_type": "code",
   "execution_count": null,
   "id": "d8d25a37",
   "metadata": {},
   "outputs": [],
   "source": [
    "sns.barplot(x = 'gender', y=\"salary\", data=trump_data)\n",
    "plt.show()"
   ]
  },
  {
   "cell_type": "markdown",
   "id": "6c8f944d",
   "metadata": {},
   "source": [
    "# Average salary in the Obama Administration by gender"
   ]
  },
  {
   "cell_type": "code",
   "execution_count": null,
   "id": "94a886e1",
   "metadata": {},
   "outputs": [],
   "source": [
    "obama_data = data.loc[data['served_under'] == 'Obama Administration']\n"
   ]
  },
  {
   "cell_type": "code",
   "execution_count": null,
   "id": "5b9f7a30",
   "metadata": {},
   "outputs": [],
   "source": [
    "ObamaAdmin_salayry_by_gender =display(obama_data.groupby(['gender'])['salary'].agg(np.mean))"
   ]
  },
  {
   "cell_type": "code",
   "execution_count": null,
   "id": "9ff33855",
   "metadata": {},
   "outputs": [],
   "source": [
    "sns.barplot(x = 'gender', y=\"salary\", data=obama_data)\n",
    "plt.show()"
   ]
  },
  {
   "cell_type": "markdown",
   "id": "776f779d",
   "metadata": {},
   "source": [
    "#  average salary in the Clinton Administration by gender"
   ]
  },
  {
   "cell_type": "code",
   "execution_count": null,
   "id": "a40fd0a4",
   "metadata": {},
   "outputs": [],
   "source": [
    "clinton_data = data.loc[data['served_under'] == 'Clinton Administration']\n"
   ]
  },
  {
   "cell_type": "code",
   "execution_count": null,
   "id": "256a8fd2",
   "metadata": {},
   "outputs": [],
   "source": [
    "ClintonAdmin_salayry_by_gender = display(clinton_data.groupby(['gender'])['salary'].agg(np.mean))"
   ]
  },
  {
   "cell_type": "code",
   "execution_count": null,
   "id": "b92dcde1",
   "metadata": {},
   "outputs": [],
   "source": [
    "sns.barplot(x = 'gender', y=\"salary\", data=clinton_data)\n",
    "plt.show()"
   ]
  },
  {
   "cell_type": "markdown",
   "id": "6d30dfbc",
   "metadata": {},
   "source": [
    "#  Average salary in the Bush Administration by gender"
   ]
  },
  {
   "cell_type": "code",
   "execution_count": null,
   "id": "80380d5e",
   "metadata": {},
   "outputs": [],
   "source": [
    "bush_data = data[(data['served_under']==\"Bush administration\")]"
   ]
  },
  {
   "cell_type": "code",
   "execution_count": null,
   "id": "b3c107b6",
   "metadata": {},
   "outputs": [],
   "source": [
    "BushAdmin_salayry_by_gender = bush_data.groupby(['gender'])['salary'].agg(np.mean)\n",
    "BushAdmin_salayry_by_gender\n"
   ]
  },
  {
   "cell_type": "code",
   "execution_count": null,
   "id": "492bc0c8",
   "metadata": {},
   "outputs": [],
   "source": [
    "sns.barplot(x = 'gender', y=\"salary\", data=bush_data)\n",
    "plt.show()"
   ]
  },
  {
   "cell_type": "markdown",
   "id": "40a8a7f9",
   "metadata": {},
   "source": [
    "# Hypothesis Testing:  gender gap in annual salaries"
   ]
  },
  {
   "cell_type": "code",
   "execution_count": null,
   "id": "75cfe116",
   "metadata": {},
   "outputs": [],
   "source": [
    "#Ho: μ1 - μ2 = 0 (There is no difference between the mean annualsalaries of Males and Females in the Whitehouse)\n",
    "#H1: #Ho: μ1 - μ2 != 0 (There`s difference in the mean annual salaries of females and Males in the Whitehouse)"
   ]
  },
  {
   "cell_type": "markdown",
   "id": "d7cb07d5",
   "metadata": {},
   "source": [
    "##### sample sizes of two different samples : Female and Male"
   ]
  },
  {
   "cell_type": "code",
   "execution_count": null,
   "id": "874aab3e",
   "metadata": {},
   "outputs": [],
   "source": [
    "data[\"gender\"].value_counts()"
   ]
  },
  {
   "cell_type": "markdown",
   "id": "e67094ef",
   "metadata": {},
   "source": [
    "##### degrees of freedom"
   ]
  },
  {
   "cell_type": "code",
   "execution_count": null,
   "id": "6486f4a9",
   "metadata": {},
   "outputs": [],
   "source": [
    "Female_sample_size = 5595\n",
    "Male_sample_size = 5002\n",
    "degrees_freedom = (Female_sample_size + Male_sample_size) -2\n",
    "degrees_freedom"
   ]
  },
  {
   "cell_type": "markdown",
   "id": "04ba85d8",
   "metadata": {},
   "source": [
    "##### get mean salary for females"
   ]
  },
  {
   "cell_type": "code",
   "execution_count": null,
   "id": "5dafb686",
   "metadata": {},
   "outputs": [],
   "source": [
    "data_female = data[data[\"gender\"]==\"Female\"]\n"
   ]
  },
  {
   "cell_type": "code",
   "execution_count": null,
   "id": "fddf5fc4",
   "metadata": {},
   "outputs": [],
   "source": [
    "mean_female_salary = data_female[\"salary\"].mean()\n",
    "mean_female_salary"
   ]
  },
  {
   "cell_type": "code",
   "execution_count": null,
   "id": "487b837f",
   "metadata": {},
   "outputs": [],
   "source": [
    "#Standard Error female\n",
    "var_female_salary = data_female[\"salary\"].var()\n",
    "var_female_salary"
   ]
  },
  {
   "cell_type": "markdown",
   "id": "fc821e92",
   "metadata": {},
   "source": [
    "##### get mean salary for males"
   ]
  },
  {
   "cell_type": "code",
   "execution_count": null,
   "id": "88628153",
   "metadata": {},
   "outputs": [],
   "source": [
    "data_male = data[data[\"gender\"]==\"Male\"]\n"
   ]
  },
  {
   "cell_type": "code",
   "execution_count": null,
   "id": "c4e41aa3",
   "metadata": {},
   "outputs": [],
   "source": [
    "mean_male_salary = data_male[\"salary\"].mean()\n",
    "mean_male_salary"
   ]
  },
  {
   "cell_type": "code",
   "execution_count": null,
   "id": "39d7f967",
   "metadata": {},
   "outputs": [],
   "source": [
    "# Variance in salary of male\n",
    "var_male_salary = data_male[\"salary\"].var()\n",
    "var_male_salary"
   ]
  },
  {
   "cell_type": "markdown",
   "id": "4c64d446",
   "metadata": {},
   "source": [
    "##### Pooled standard Error"
   ]
  },
  {
   "cell_type": "code",
   "execution_count": null,
   "id": "873f1192",
   "metadata": {},
   "outputs": [],
   "source": [
    "pooled_sample_standard_error  = np.sqrt((var_male_salary/(Male_sample_size-1)) +(var_female_salary/(Female_sample_size-1)))\n",
    "pooled_sample_standard_error "
   ]
  },
  {
   "cell_type": "markdown",
   "id": "dd1af125",
   "metadata": {},
   "source": [
    "##### difference in means of the 2 samples(female and male)"
   ]
  },
  {
   "cell_type": "code",
   "execution_count": null,
   "id": "57874f52",
   "metadata": {},
   "outputs": [],
   "source": [
    "difference_in_means = mean_male_salary - mean_female_salary\n",
    "difference_in_means"
   ]
  },
  {
   "cell_type": "markdown",
   "id": "73c27b7b",
   "metadata": {},
   "source": [
    "## Compute confidence interval"
   ]
  },
  {
   "cell_type": "code",
   "execution_count": null,
   "id": "db2d7352",
   "metadata": {},
   "outputs": [],
   "source": [
    "import scipy.stats\n",
    "confidence_level = 0.95\n",
    "\n",
    "confidence_interval = scipy.stats.t.interval(confidence_level, \n",
    "                                             degrees_freedom, \n",
    "                                             difference_in_means, \n",
    "                                             pooled_sample_standard_error)\n",
    "confidence_interval"
   ]
  },
  {
   "cell_type": "markdown",
   "id": "3999cb20",
   "metadata": {},
   "source": [
    "#### With 95% confidence, the difference in mean Annual salaries of Females and Males in the Whitehouse is between USD 12,758-USD15,800 "
   ]
  },
  {
   "cell_type": "code",
   "execution_count": null,
   "id": "abe60a54",
   "metadata": {},
   "outputs": [],
   "source": [
    "import scipy.stats as stats\n",
    "stats.ttest_ind(data_male[\"salary\"], data_female[\"salary\"], equal_var=True)"
   ]
  },
  {
   "cell_type": "markdown",
   "id": "1868af74",
   "metadata": {},
   "source": [
    "### since the p-value (8.39451834941693e-76) < alpha = 0.05 so we reject the null hypothesis of the test.\n",
    "### We can confidently say there was difference in the mean annaul salaries of Females and males in the Whitehouse from 1997-2020."
   ]
  },
  {
   "cell_type": "code",
   "execution_count": 85,
   "id": "3932f50e",
   "metadata": {},
   "outputs": [],
   "source": [
    "# Save your work as a csv file.(export as csv)\n",
    "data.to_csv(' whitehouse_staff.csv', index=False)"
   ]
  },
  {
   "cell_type": "code",
   "execution_count": null,
   "id": "3eb3dab1",
   "metadata": {},
   "outputs": [],
   "source": []
  }
 ],
 "metadata": {
  "kernelspec": {
   "display_name": "Python 3 (ipykernel)",
   "language": "python",
   "name": "python3"
  },
  "language_info": {
   "codemirror_mode": {
    "name": "ipython",
    "version": 3
   },
   "file_extension": ".py",
   "mimetype": "text/x-python",
   "name": "python",
   "nbconvert_exporter": "python",
   "pygments_lexer": "ipython3",
   "version": "3.9.13"
  }
 },
 "nbformat": 4,
 "nbformat_minor": 5
}
